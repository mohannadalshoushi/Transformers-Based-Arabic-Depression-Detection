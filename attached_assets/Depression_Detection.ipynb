{
  "nbformat": 4,
  "nbformat_minor": 0,
  "metadata": {
    "colab": {
      "provenance": [],
      "collapsed_sections": [
        "71gDv3IEYlxT"
      ]
    },
    "kernelspec": {
      "name": "python3",
      "display_name": "Python 3"
    },
    "language_info": {
      "name": "python"
    }
  },
  "cells": [
    {
      "cell_type": "code",
      "source": [
        "import pandas as pd\n",
        "\n",
        "import re\n",
        "!pip install emoji\n",
        "import emoji  # Install via pip install emoji\n",
        "\n",
        "\n",
        "import nltk\n",
        "from nltk.tokenize import word_tokenize  # Add this impor\n",
        "\n",
        "nltk.download('punkt')          # General tokenizer data\n",
        "\n",
        "!pip install pyarabic\n",
        "from pyarabic.araby import tokenize  # Import Arabic tokenizer\n",
        "\n",
        "nltk.download('stopwords')\n",
        "from nltk.corpus import stopwords\n",
        "\n",
        "from nltk.stem.isri import ISRIStemmer  # Stemmer for Arabic'"
      ],
      "metadata": {
        "colab": {
          "base_uri": "https://localhost:8080/"
        },
        "collapsed": true,
        "id": "cXTsKh3CfXAv",
        "outputId": "790ee879-f03e-4a65-c594-988da4ae71ce"
      },
      "execution_count": null,
      "outputs": [
        {
          "output_type": "stream",
          "name": "stdout",
          "text": [
            "Collecting emoji\n",
            "  Downloading emoji-2.14.1-py3-none-any.whl.metadata (5.7 kB)\n",
            "Downloading emoji-2.14.1-py3-none-any.whl (590 kB)\n",
            "\u001b[2K   \u001b[90m━━━━━━━━━━━━━━━━━━━━━━━━━━━━━━━━━━━━━━━━\u001b[0m \u001b[32m590.6/590.6 kB\u001b[0m \u001b[31m8.0 MB/s\u001b[0m eta \u001b[36m0:00:00\u001b[0m\n",
            "\u001b[?25hInstalling collected packages: emoji\n",
            "Successfully installed emoji-2.14.1\n"
          ]
        },
        {
          "output_type": "stream",
          "name": "stderr",
          "text": [
            "[nltk_data] Downloading package punkt to /root/nltk_data...\n",
            "[nltk_data]   Unzipping tokenizers/punkt.zip.\n"
          ]
        },
        {
          "output_type": "stream",
          "name": "stdout",
          "text": [
            "Collecting pyarabic\n",
            "  Downloading PyArabic-0.6.15-py3-none-any.whl.metadata (10 kB)\n",
            "Requirement already satisfied: six>=1.14.0 in /usr/local/lib/python3.11/dist-packages (from pyarabic) (1.17.0)\n",
            "Downloading PyArabic-0.6.15-py3-none-any.whl (126 kB)\n",
            "\u001b[?25l   \u001b[90m━━━━━━━━━━━━━━━━━━━━━━━━━━━━━━━━━━━━━━━━\u001b[0m \u001b[32m0.0/126.4 kB\u001b[0m \u001b[31m?\u001b[0m eta \u001b[36m-:--:--\u001b[0m\r\u001b[2K   \u001b[91m━━━━━━━━━━━━━━━━━━━━━━━━━━━━━\u001b[0m\u001b[90m╺\u001b[0m\u001b[90m━━━━━━━━━━\u001b[0m \u001b[32m92.2/126.4 kB\u001b[0m \u001b[31m3.2 MB/s\u001b[0m eta \u001b[36m0:00:01\u001b[0m\r\u001b[2K   \u001b[90m━━━━━━━━━━━━━━━━━━━━━━━━━━━━━━━━━━━━━━━━\u001b[0m \u001b[32m126.4/126.4 kB\u001b[0m \u001b[31m2.3 MB/s\u001b[0m eta \u001b[36m0:00:00\u001b[0m\n",
            "\u001b[?25hInstalling collected packages: pyarabic\n",
            "Successfully installed pyarabic-0.6.15\n"
          ]
        },
        {
          "output_type": "stream",
          "name": "stderr",
          "text": [
            "[nltk_data] Downloading package stopwords to /root/nltk_data...\n",
            "[nltk_data]   Unzipping corpora/stopwords.zip.\n"
          ]
        }
      ]
    },
    {
      "cell_type": "markdown",
      "source": [
        "# Data Collection step :"
      ],
      "metadata": {
        "id": "OpckGoC7QFJj"
      }
    },
    {
      "cell_type": "code",
      "execution_count": null,
      "metadata": {
        "id": "_MTXxVfJebmk"
      },
      "outputs": [],
      "source": [
        "# Load the Excel file dataset into a dataframe\n",
        "df = pd.read_excel('combined_dataset.xlsx')"
      ]
    },
    {
      "cell_type": "code",
      "source": [
        "# Keep only the 'label' and 'text' columns from the DataFrame\n",
        "df = df[['label', 'text']]\n",
        "df"
      ],
      "metadata": {
        "colab": {
          "base_uri": "https://localhost:8080/",
          "height": 423
        },
        "id": "lVQvfJZrevRT",
        "outputId": "847eae08-fb4d-431a-c5ba-bc463af4bc1b"
      },
      "execution_count": null,
      "outputs": [
        {
          "output_type": "execute_result",
          "data": {
            "text/plain": [
              "       label                                               text\n",
              "0          1  والله شايفيتلك الناس كلها صاير عندها اكتئاب لا...\n",
              "1          1  اكيد اكتئاب بعد العصر ما في زيه بس ان شاء الله...\n",
              "2          1  والله ما أنا عارف هو اكتئاب ولا انطفاء ولا نضج...\n",
              "3          1                     اصبروا داخله في حاله اكتئاب 💔😭\n",
              "4          1                                     هذا اكتئاب ولا\n",
              "...      ...                                                ...\n",
              "11853      1  قلنا ان اهلي مايحبوني مو لدرجه اصحي وماحصل احد...\n",
              "11854      0                                       يوم جميل جدا\n",
              "11855      0  الهم  ابي  سندي الهم  امي  نبضي الهم  اخواني  ...\n",
              "11856      1             اكره الدوام واكره الجامعه واكره الصباح\n",
              "11857      0         ماعرف ليش لحين زعلانه الحياه مو عادله ابدا\n",
              "\n",
              "[11858 rows x 2 columns]"
            ],
            "text/html": [
              "\n",
              "  <div id=\"df-4d2f4c40-bc5c-4312-bf5a-fddb6c084b9e\" class=\"colab-df-container\">\n",
              "    <div>\n",
              "<style scoped>\n",
              "    .dataframe tbody tr th:only-of-type {\n",
              "        vertical-align: middle;\n",
              "    }\n",
              "\n",
              "    .dataframe tbody tr th {\n",
              "        vertical-align: top;\n",
              "    }\n",
              "\n",
              "    .dataframe thead th {\n",
              "        text-align: right;\n",
              "    }\n",
              "</style>\n",
              "<table border=\"1\" class=\"dataframe\">\n",
              "  <thead>\n",
              "    <tr style=\"text-align: right;\">\n",
              "      <th></th>\n",
              "      <th>label</th>\n",
              "      <th>text</th>\n",
              "    </tr>\n",
              "  </thead>\n",
              "  <tbody>\n",
              "    <tr>\n",
              "      <th>0</th>\n",
              "      <td>1</td>\n",
              "      <td>والله شايفيتلك الناس كلها صاير عندها اكتئاب لا...</td>\n",
              "    </tr>\n",
              "    <tr>\n",
              "      <th>1</th>\n",
              "      <td>1</td>\n",
              "      <td>اكيد اكتئاب بعد العصر ما في زيه بس ان شاء الله...</td>\n",
              "    </tr>\n",
              "    <tr>\n",
              "      <th>2</th>\n",
              "      <td>1</td>\n",
              "      <td>والله ما أنا عارف هو اكتئاب ولا انطفاء ولا نضج...</td>\n",
              "    </tr>\n",
              "    <tr>\n",
              "      <th>3</th>\n",
              "      <td>1</td>\n",
              "      <td>اصبروا داخله في حاله اكتئاب 💔😭</td>\n",
              "    </tr>\n",
              "    <tr>\n",
              "      <th>4</th>\n",
              "      <td>1</td>\n",
              "      <td>هذا اكتئاب ولا</td>\n",
              "    </tr>\n",
              "    <tr>\n",
              "      <th>...</th>\n",
              "      <td>...</td>\n",
              "      <td>...</td>\n",
              "    </tr>\n",
              "    <tr>\n",
              "      <th>11853</th>\n",
              "      <td>1</td>\n",
              "      <td>قلنا ان اهلي مايحبوني مو لدرجه اصحي وماحصل احد...</td>\n",
              "    </tr>\n",
              "    <tr>\n",
              "      <th>11854</th>\n",
              "      <td>0</td>\n",
              "      <td>يوم جميل جدا</td>\n",
              "    </tr>\n",
              "    <tr>\n",
              "      <th>11855</th>\n",
              "      <td>0</td>\n",
              "      <td>الهم  ابي  سندي الهم  امي  نبضي الهم  اخواني  ...</td>\n",
              "    </tr>\n",
              "    <tr>\n",
              "      <th>11856</th>\n",
              "      <td>1</td>\n",
              "      <td>اكره الدوام واكره الجامعه واكره الصباح</td>\n",
              "    </tr>\n",
              "    <tr>\n",
              "      <th>11857</th>\n",
              "      <td>0</td>\n",
              "      <td>ماعرف ليش لحين زعلانه الحياه مو عادله ابدا</td>\n",
              "    </tr>\n",
              "  </tbody>\n",
              "</table>\n",
              "<p>11858 rows × 2 columns</p>\n",
              "</div>\n",
              "    <div class=\"colab-df-buttons\">\n",
              "\n",
              "  <div class=\"colab-df-container\">\n",
              "    <button class=\"colab-df-convert\" onclick=\"convertToInteractive('df-4d2f4c40-bc5c-4312-bf5a-fddb6c084b9e')\"\n",
              "            title=\"Convert this dataframe to an interactive table.\"\n",
              "            style=\"display:none;\">\n",
              "\n",
              "  <svg xmlns=\"http://www.w3.org/2000/svg\" height=\"24px\" viewBox=\"0 -960 960 960\">\n",
              "    <path d=\"M120-120v-720h720v720H120Zm60-500h600v-160H180v160Zm220 220h160v-160H400v160Zm0 220h160v-160H400v160ZM180-400h160v-160H180v160Zm440 0h160v-160H620v160ZM180-180h160v-160H180v160Zm440 0h160v-160H620v160Z\"/>\n",
              "  </svg>\n",
              "    </button>\n",
              "\n",
              "  <style>\n",
              "    .colab-df-container {\n",
              "      display:flex;\n",
              "      gap: 12px;\n",
              "    }\n",
              "\n",
              "    .colab-df-convert {\n",
              "      background-color: #E8F0FE;\n",
              "      border: none;\n",
              "      border-radius: 50%;\n",
              "      cursor: pointer;\n",
              "      display: none;\n",
              "      fill: #1967D2;\n",
              "      height: 32px;\n",
              "      padding: 0 0 0 0;\n",
              "      width: 32px;\n",
              "    }\n",
              "\n",
              "    .colab-df-convert:hover {\n",
              "      background-color: #E2EBFA;\n",
              "      box-shadow: 0px 1px 2px rgba(60, 64, 67, 0.3), 0px 1px 3px 1px rgba(60, 64, 67, 0.15);\n",
              "      fill: #174EA6;\n",
              "    }\n",
              "\n",
              "    .colab-df-buttons div {\n",
              "      margin-bottom: 4px;\n",
              "    }\n",
              "\n",
              "    [theme=dark] .colab-df-convert {\n",
              "      background-color: #3B4455;\n",
              "      fill: #D2E3FC;\n",
              "    }\n",
              "\n",
              "    [theme=dark] .colab-df-convert:hover {\n",
              "      background-color: #434B5C;\n",
              "      box-shadow: 0px 1px 3px 1px rgba(0, 0, 0, 0.15);\n",
              "      filter: drop-shadow(0px 1px 2px rgba(0, 0, 0, 0.3));\n",
              "      fill: #FFFFFF;\n",
              "    }\n",
              "  </style>\n",
              "\n",
              "    <script>\n",
              "      const buttonEl =\n",
              "        document.querySelector('#df-4d2f4c40-bc5c-4312-bf5a-fddb6c084b9e button.colab-df-convert');\n",
              "      buttonEl.style.display =\n",
              "        google.colab.kernel.accessAllowed ? 'block' : 'none';\n",
              "\n",
              "      async function convertToInteractive(key) {\n",
              "        const element = document.querySelector('#df-4d2f4c40-bc5c-4312-bf5a-fddb6c084b9e');\n",
              "        const dataTable =\n",
              "          await google.colab.kernel.invokeFunction('convertToInteractive',\n",
              "                                                    [key], {});\n",
              "        if (!dataTable) return;\n",
              "\n",
              "        const docLinkHtml = 'Like what you see? Visit the ' +\n",
              "          '<a target=\"_blank\" href=https://colab.research.google.com/notebooks/data_table.ipynb>data table notebook</a>'\n",
              "          + ' to learn more about interactive tables.';\n",
              "        element.innerHTML = '';\n",
              "        dataTable['output_type'] = 'display_data';\n",
              "        await google.colab.output.renderOutput(dataTable, element);\n",
              "        const docLink = document.createElement('div');\n",
              "        docLink.innerHTML = docLinkHtml;\n",
              "        element.appendChild(docLink);\n",
              "      }\n",
              "    </script>\n",
              "  </div>\n",
              "\n",
              "\n",
              "    <div id=\"df-74d5b6d4-64bb-4e42-bd06-e4ddd82ccf4b\">\n",
              "      <button class=\"colab-df-quickchart\" onclick=\"quickchart('df-74d5b6d4-64bb-4e42-bd06-e4ddd82ccf4b')\"\n",
              "                title=\"Suggest charts\"\n",
              "                style=\"display:none;\">\n",
              "\n",
              "<svg xmlns=\"http://www.w3.org/2000/svg\" height=\"24px\"viewBox=\"0 0 24 24\"\n",
              "     width=\"24px\">\n",
              "    <g>\n",
              "        <path d=\"M19 3H5c-1.1 0-2 .9-2 2v14c0 1.1.9 2 2 2h14c1.1 0 2-.9 2-2V5c0-1.1-.9-2-2-2zM9 17H7v-7h2v7zm4 0h-2V7h2v10zm4 0h-2v-4h2v4z\"/>\n",
              "    </g>\n",
              "</svg>\n",
              "      </button>\n",
              "\n",
              "<style>\n",
              "  .colab-df-quickchart {\n",
              "      --bg-color: #E8F0FE;\n",
              "      --fill-color: #1967D2;\n",
              "      --hover-bg-color: #E2EBFA;\n",
              "      --hover-fill-color: #174EA6;\n",
              "      --disabled-fill-color: #AAA;\n",
              "      --disabled-bg-color: #DDD;\n",
              "  }\n",
              "\n",
              "  [theme=dark] .colab-df-quickchart {\n",
              "      --bg-color: #3B4455;\n",
              "      --fill-color: #D2E3FC;\n",
              "      --hover-bg-color: #434B5C;\n",
              "      --hover-fill-color: #FFFFFF;\n",
              "      --disabled-bg-color: #3B4455;\n",
              "      --disabled-fill-color: #666;\n",
              "  }\n",
              "\n",
              "  .colab-df-quickchart {\n",
              "    background-color: var(--bg-color);\n",
              "    border: none;\n",
              "    border-radius: 50%;\n",
              "    cursor: pointer;\n",
              "    display: none;\n",
              "    fill: var(--fill-color);\n",
              "    height: 32px;\n",
              "    padding: 0;\n",
              "    width: 32px;\n",
              "  }\n",
              "\n",
              "  .colab-df-quickchart:hover {\n",
              "    background-color: var(--hover-bg-color);\n",
              "    box-shadow: 0 1px 2px rgba(60, 64, 67, 0.3), 0 1px 3px 1px rgba(60, 64, 67, 0.15);\n",
              "    fill: var(--button-hover-fill-color);\n",
              "  }\n",
              "\n",
              "  .colab-df-quickchart-complete:disabled,\n",
              "  .colab-df-quickchart-complete:disabled:hover {\n",
              "    background-color: var(--disabled-bg-color);\n",
              "    fill: var(--disabled-fill-color);\n",
              "    box-shadow: none;\n",
              "  }\n",
              "\n",
              "  .colab-df-spinner {\n",
              "    border: 2px solid var(--fill-color);\n",
              "    border-color: transparent;\n",
              "    border-bottom-color: var(--fill-color);\n",
              "    animation:\n",
              "      spin 1s steps(1) infinite;\n",
              "  }\n",
              "\n",
              "  @keyframes spin {\n",
              "    0% {\n",
              "      border-color: transparent;\n",
              "      border-bottom-color: var(--fill-color);\n",
              "      border-left-color: var(--fill-color);\n",
              "    }\n",
              "    20% {\n",
              "      border-color: transparent;\n",
              "      border-left-color: var(--fill-color);\n",
              "      border-top-color: var(--fill-color);\n",
              "    }\n",
              "    30% {\n",
              "      border-color: transparent;\n",
              "      border-left-color: var(--fill-color);\n",
              "      border-top-color: var(--fill-color);\n",
              "      border-right-color: var(--fill-color);\n",
              "    }\n",
              "    40% {\n",
              "      border-color: transparent;\n",
              "      border-right-color: var(--fill-color);\n",
              "      border-top-color: var(--fill-color);\n",
              "    }\n",
              "    60% {\n",
              "      border-color: transparent;\n",
              "      border-right-color: var(--fill-color);\n",
              "    }\n",
              "    80% {\n",
              "      border-color: transparent;\n",
              "      border-right-color: var(--fill-color);\n",
              "      border-bottom-color: var(--fill-color);\n",
              "    }\n",
              "    90% {\n",
              "      border-color: transparent;\n",
              "      border-bottom-color: var(--fill-color);\n",
              "    }\n",
              "  }\n",
              "</style>\n",
              "\n",
              "      <script>\n",
              "        async function quickchart(key) {\n",
              "          const quickchartButtonEl =\n",
              "            document.querySelector('#' + key + ' button');\n",
              "          quickchartButtonEl.disabled = true;  // To prevent multiple clicks.\n",
              "          quickchartButtonEl.classList.add('colab-df-spinner');\n",
              "          try {\n",
              "            const charts = await google.colab.kernel.invokeFunction(\n",
              "                'suggestCharts', [key], {});\n",
              "          } catch (error) {\n",
              "            console.error('Error during call to suggestCharts:', error);\n",
              "          }\n",
              "          quickchartButtonEl.classList.remove('colab-df-spinner');\n",
              "          quickchartButtonEl.classList.add('colab-df-quickchart-complete');\n",
              "        }\n",
              "        (() => {\n",
              "          let quickchartButtonEl =\n",
              "            document.querySelector('#df-74d5b6d4-64bb-4e42-bd06-e4ddd82ccf4b button');\n",
              "          quickchartButtonEl.style.display =\n",
              "            google.colab.kernel.accessAllowed ? 'block' : 'none';\n",
              "        })();\n",
              "      </script>\n",
              "    </div>\n",
              "\n",
              "  <div id=\"id_0593ed64-86b1-470d-9b30-2307fbd338f3\">\n",
              "    <style>\n",
              "      .colab-df-generate {\n",
              "        background-color: #E8F0FE;\n",
              "        border: none;\n",
              "        border-radius: 50%;\n",
              "        cursor: pointer;\n",
              "        display: none;\n",
              "        fill: #1967D2;\n",
              "        height: 32px;\n",
              "        padding: 0 0 0 0;\n",
              "        width: 32px;\n",
              "      }\n",
              "\n",
              "      .colab-df-generate:hover {\n",
              "        background-color: #E2EBFA;\n",
              "        box-shadow: 0px 1px 2px rgba(60, 64, 67, 0.3), 0px 1px 3px 1px rgba(60, 64, 67, 0.15);\n",
              "        fill: #174EA6;\n",
              "      }\n",
              "\n",
              "      [theme=dark] .colab-df-generate {\n",
              "        background-color: #3B4455;\n",
              "        fill: #D2E3FC;\n",
              "      }\n",
              "\n",
              "      [theme=dark] .colab-df-generate:hover {\n",
              "        background-color: #434B5C;\n",
              "        box-shadow: 0px 1px 3px 1px rgba(0, 0, 0, 0.15);\n",
              "        filter: drop-shadow(0px 1px 2px rgba(0, 0, 0, 0.3));\n",
              "        fill: #FFFFFF;\n",
              "      }\n",
              "    </style>\n",
              "    <button class=\"colab-df-generate\" onclick=\"generateWithVariable('df')\"\n",
              "            title=\"Generate code using this dataframe.\"\n",
              "            style=\"display:none;\">\n",
              "\n",
              "  <svg xmlns=\"http://www.w3.org/2000/svg\" height=\"24px\"viewBox=\"0 0 24 24\"\n",
              "       width=\"24px\">\n",
              "    <path d=\"M7,19H8.4L18.45,9,17,7.55,7,17.6ZM5,21V16.75L18.45,3.32a2,2,0,0,1,2.83,0l1.4,1.43a1.91,1.91,0,0,1,.58,1.4,1.91,1.91,0,0,1-.58,1.4L9.25,21ZM18.45,9,17,7.55Zm-12,3A5.31,5.31,0,0,0,4.9,8.1,5.31,5.31,0,0,0,1,6.5,5.31,5.31,0,0,0,4.9,4.9,5.31,5.31,0,0,0,6.5,1,5.31,5.31,0,0,0,8.1,4.9,5.31,5.31,0,0,0,12,6.5,5.46,5.46,0,0,0,6.5,12Z\"/>\n",
              "  </svg>\n",
              "    </button>\n",
              "    <script>\n",
              "      (() => {\n",
              "      const buttonEl =\n",
              "        document.querySelector('#id_0593ed64-86b1-470d-9b30-2307fbd338f3 button.colab-df-generate');\n",
              "      buttonEl.style.display =\n",
              "        google.colab.kernel.accessAllowed ? 'block' : 'none';\n",
              "\n",
              "      buttonEl.onclick = () => {\n",
              "        google.colab.notebook.generateWithVariable('df');\n",
              "      }\n",
              "      })();\n",
              "    </script>\n",
              "  </div>\n",
              "\n",
              "    </div>\n",
              "  </div>\n"
            ],
            "application/vnd.google.colaboratory.intrinsic+json": {
              "type": "dataframe",
              "variable_name": "df",
              "summary": "{\n  \"name\": \"df\",\n  \"rows\": 11858,\n  \"fields\": [\n    {\n      \"column\": \"label\",\n      \"properties\": {\n        \"dtype\": \"number\",\n        \"std\": 0,\n        \"min\": 0,\n        \"max\": 1,\n        \"num_unique_values\": 2,\n        \"samples\": [\n          0,\n          1\n        ],\n        \"semantic_type\": \"\",\n        \"description\": \"\"\n      }\n    },\n    {\n      \"column\": \"text\",\n      \"properties\": {\n        \"dtype\": \"string\",\n        \"num_unique_values\": 11841,\n        \"samples\": [\n          \"\\u0627\\u0644\\u0644\\u0647\\u0645 \\u0627\\u062c\\u0639\\u0644 \\u0627\\u0644\\u0635\\u062d\\u0629 \\u062e\\u064a\\u0631 \\u0635\\u0627\\u062d\\u0628 \\u0644\\u0623\\u062c\\u0633\\u0627\\u062f\\u0646\\u0627 \\u0648\\u0627\\u0644\\u0633\\u0639\\u0627\\u062f\\u0629 \\u062e\\u064a\\u0631 \\u0631\\u0641\\u064a\\u0642 \\u0644\\u0642\\u0644\\u0648\\u0628\\u0646\\u0627 \\u0648 \\u0627\\u0644\\u0641\\u0631\\u062d\\u0629 \\u062e\\u064a\\u0631 \\u0646\\u0648\\u0631 \\u0644\\u0639\\u064a\\u0648\\u0646\\u0646\\u0627  \\u0648\\u0627\\u0644\\u062a\\u0648\\u0641\\u064a\\u0642 \\u0627\\u0644\\u062f\\u0627\\u0626\\u0645 \\u0641\\u064a \\u062f\\u0631\\u0648\\u0628\\u0646\\u0627  \\u0625\\u0646\\u0643 \\u0639\\u0644\\u0649 \\u0643\\u0644 \\u0634\\u064a \\u0642\\u062f\\u064a\\u0631 \\u2665\\ufe0f\",\n          \"\\u0628\\u0648\\u0633\\u062a \\u0644\\u0648\\u0627\\u0644\\u062f \\u0648\\u0627\\u062d\\u062f\\u0647 \\u0632\\u0645\\u064a\\u0644\\u062a\\u0646\\u0627 _x000D_\\n\\u062d\\u062a\\u064a \\u0627\\u0644\\u0627\\u0647\\u0627\\u0644\\u064a \\u062c\\u0627\\u0644\\u0647\\u0645 \\u0627\\u0643\\u062a\\u0626\\u0627\\u0628 _x000D_\\n\\u0644\\u0647 \\u0627\\u0644\\u0623\\u0645\\u0631 \\u0645\\u0646 \\u0642\"\n        ],\n        \"semantic_type\": \"\",\n        \"description\": \"\"\n      }\n    }\n  ]\n}"
            }
          },
          "metadata": {},
          "execution_count": 5
        }
      ]
    },
    {
      "cell_type": "code",
      "source": [
        "# Remove rows with empty values\n",
        "df.dropna(inplace=True)\n",
        "# Remove duplicate rows\n",
        "df = df.drop_duplicates()"
      ],
      "metadata": {
        "id": "rBNdrdEPfLbI"
      },
      "execution_count": null,
      "outputs": []
    },
    {
      "cell_type": "code",
      "source": [
        "# Check if the dataset is balanced by showing class distribution percentages\n",
        "print(\"Class Distribution:\\n\", df['label'].value_counts(normalize=True))"
      ],
      "metadata": {
        "colab": {
          "base_uri": "https://localhost:8080/"
        },
        "id": "lP7zQHVBRr6q",
        "outputId": "3cab820a-34dd-44c6-e52f-1966a9a693c2"
      },
      "execution_count": null,
      "outputs": [
        {
          "output_type": "stream",
          "name": "stdout",
          "text": [
            "Class Distribution:\n",
            " label\n",
            "1    0.500211\n",
            "0    0.499789\n",
            "Name: proportion, dtype: float64\n"
          ]
        }
      ]
    },
    {
      "cell_type": "code",
      "source": [
        "# Get information about the dataset\n",
        "print(df.info())"
      ],
      "metadata": {
        "colab": {
          "base_uri": "https://localhost:8080/"
        },
        "id": "YqDSFZefevJe",
        "outputId": "76168769-1488-48d4-8e83-3fdbc014fb68"
      },
      "execution_count": null,
      "outputs": [
        {
          "output_type": "stream",
          "name": "stdout",
          "text": [
            "<class 'pandas.core.frame.DataFrame'>\n",
            "Index: 11843 entries, 0 to 11857\n",
            "Data columns (total 2 columns):\n",
            " #   Column  Non-Null Count  Dtype \n",
            "---  ------  --------------  ----- \n",
            " 0   label   11843 non-null  int64 \n",
            " 1   text    11843 non-null  object\n",
            "dtypes: int64(1), object(1)\n",
            "memory usage: 277.6+ KB\n",
            "None\n"
          ]
        }
      ]
    },
    {
      "cell_type": "markdown",
      "source": [
        "# Data Preprocessing :"
      ],
      "metadata": {
        "id": "8isOtbYxQpTv"
      }
    },
    {
      "cell_type": "code",
      "source": [
        "\n",
        "# Get NLTK Arabic stopwords and normalize them\n",
        "\n",
        "\"\"\"\n",
        "#Stopwords Removal Problem\n",
        "#My text was normalized, but NLTK stopwords were not. So,\n",
        "#they didn’t match, and stopwords weren’t removed. I fixed it by normalizing the\n",
        "#stopwords too and saving them in a set called normalized_stopwords.\"\"\"\n",
        "\n",
        "\n",
        "\n",
        "arabic_stopwords = set(stopwords.words('arabic'))\n",
        "\n",
        "normalized_stopwords = set()\n",
        "\n",
        "for word in arabic_stopwords:\n",
        "    # Apply the same normalization as your text\n",
        "    word = re.sub(\"[إأآا]\", \"ا\", word)  # Normalize Alef\n",
        "    word = re.sub(\"ى\", \"ي\", word)       # Normalize Ya\n",
        "    word = re.sub(\"[ؤئ]\", \"ء\", word)    # Normalize Hamza\n",
        "    normalized_stopwords.add(word)\n",
        "\n",
        "\n",
        "\n",
        "def data_cleaner(text):\n",
        "\n",
        "    # Step 1: Remove URLs, hashtags, mentions\n",
        "    text = re.sub(r'http\\S+', '', text)        # Remove URLs\n",
        "    text = re.sub(r'[@#]\\w+', '', text)        # Remove mentions (@) and hashtags (#)\n",
        "\n",
        "    # Step 2: Normalize Arabic text (remove diacritics)\n",
        "    text = re.sub(r'[\\u0617-\\u061A\\u064B-\\u0652]', '', text)  # Remove Arabic diacritics\n",
        "\n",
        "    # Step 3: Normalize Hamza and Alef variations\n",
        "    text = re.sub(\"[إأآا]\", \"ا\", text)         # Normalize Alef variations\n",
        "    text = re.sub(\"ى\", \"ي\", text)              # Normalize Ya\n",
        "    text = re.sub(\"ؤ\", \"ء\", text)              # Normalize Hamza\n",
        "    text = re.sub(\"ئ\", \"ء\", text)              # Normalize Hamza\n",
        "\n",
        "    # Step 4: Remove emojis (using emoji library + regex)\n",
        "    text = emoji.replace_emoji(text, replace='')  # Remove emojis using the emoji library\n",
        "\n",
        "    # Step 5: Remove punctuation and special characters\n",
        "    arabic_punct = r'[،؛؟.!\\\"\\'\\(\\)\\[\\]\\{\\}:;,\\.\\?]'  # Define Arabic punctuation\n",
        "    text = re.sub(arabic_punct, ' ', text)     # Replace with space\n",
        "\n",
        "    # Step 6: Remove numbers\n",
        "    text = re.sub(r'\\d+', '', text)            # Remove digits\n",
        "\n",
        "    # Step 7: Remove English letters (A-Za-z)\n",
        "    text = re.sub(r'[A-Za-z]', '', text)       # Remove English characters\n",
        "\n",
        "    # Step 8: Remove extra whitespaces\n",
        "    text = re.sub(r'\\s+', ' ', text).strip()   # Collapse multiple spaces\n",
        "\n",
        "    # Step 9: Tokenize the cleaned text\n",
        "    tokens = tokenize(text)  # Arabic-specific tokenization\n",
        "\n",
        "    # Debugging: Print tokens to verify\n",
        "    #print(f\"Original: {text}\")\n",
        "    #print(f\"Tokens: {tokens}\")\n",
        "\n",
        "    # Step 10: Remove stopwrods\n",
        "    tokens = [word for word in tokens if word not in normalized_stopwords]\n",
        "\n",
        "    #Step 11: Stem tokens\n",
        "\n",
        "    # Initialize stemmer\n",
        "    stemmer = ISRIStemmer()\n",
        "    tokens = [stemmer.stem(word) for word in tokens]\n",
        "\n",
        "    # Step 12: Remove any remaining garbage characters\n",
        "    tokens = [word for word in tokens if re.match(r'^[\\u0620-\\u064A]+$', word)]\n",
        "\n",
        "    # Join tokens and return the cleaned text\n",
        "    cleaned_text = \" \".join(tokens)\n",
        "\n",
        "    return cleaned_text"
      ],
      "metadata": {
        "id": "kXt35HKvgFmQ"
      },
      "execution_count": null,
      "outputs": []
    },
    {
      "cell_type": "code",
      "source": [
        "# Apply data_cleaner function on the dataset text\n",
        "df['text'] = df['text'].apply(lambda x: data_cleaner(x))\n",
        "print(df.head())"
      ],
      "metadata": {
        "colab": {
          "base_uri": "https://localhost:8080/"
        },
        "id": "aOCX0TwGl7kJ",
        "outputId": "b2f3eb6f-1298-4d2b-afe6-4c04f8db6dae"
      },
      "execution_count": null,
      "outputs": [
        {
          "output_type": "stream",
          "name": "stdout",
          "text": [
            "   label                                               text\n",
            "0      1   ولل شايفيتلك ناس كله صير عند كءب لزم فكو حظر بكف\n",
            "1      1  اكد كءب عصر زيه شاء الل عيد دا اشف عمل تطع خير...\n",
            "2      1                        ولل عرف كءب طفء نضج وحد وحد\n",
            "3      1                                    صبر دخل حله كءب\n",
            "4      1                                                كءب\n"
          ]
        },
        {
          "output_type": "stream",
          "name": "stderr",
          "text": [
            "<ipython-input-10-d53f6699c614>:2: SettingWithCopyWarning: \n",
            "A value is trying to be set on a copy of a slice from a DataFrame.\n",
            "Try using .loc[row_indexer,col_indexer] = value instead\n",
            "\n",
            "See the caveats in the documentation: https://pandas.pydata.org/pandas-docs/stable/user_guide/indexing.html#returning-a-view-versus-a-copy\n",
            "  df['text'] = df['text'].apply(lambda x: data_cleaner(x))\n"
          ]
        }
      ]
    },
    {
      "cell_type": "code",
      "source": [
        "print(df.info())  # Get information about the dataset"
      ],
      "metadata": {
        "colab": {
          "base_uri": "https://localhost:8080/"
        },
        "id": "ibouj-DXWgf5",
        "outputId": "94ba0be3-10bc-49fe-9769-65f1cc1da4a1"
      },
      "execution_count": null,
      "outputs": [
        {
          "output_type": "stream",
          "name": "stdout",
          "text": [
            "<class 'pandas.core.frame.DataFrame'>\n",
            "Index: 11843 entries, 0 to 11857\n",
            "Data columns (total 2 columns):\n",
            " #   Column  Non-Null Count  Dtype \n",
            "---  ------  --------------  ----- \n",
            " 0   label   11843 non-null  int64 \n",
            " 1   text    11843 non-null  object\n",
            "dtypes: int64(1), object(1)\n",
            "memory usage: 277.6+ KB\n",
            "None\n"
          ]
        }
      ]
    },
    {
      "cell_type": "code",
      "source": [
        "df = df[df['text'].str.strip().astype(bool)]  # Remove empty texts"
      ],
      "metadata": {
        "id": "VgcirHW4WemL"
      },
      "execution_count": null,
      "outputs": []
    },
    {
      "cell_type": "code",
      "source": [
        "print(df.info())  # Get information about the dataset"
      ],
      "metadata": {
        "colab": {
          "base_uri": "https://localhost:8080/"
        },
        "id": "lfdmJ_AVXCQ8",
        "outputId": "678868e3-8546-4b49-eaba-52ba4f81b286"
      },
      "execution_count": null,
      "outputs": [
        {
          "output_type": "stream",
          "name": "stdout",
          "text": [
            "<class 'pandas.core.frame.DataFrame'>\n",
            "Index: 11838 entries, 0 to 11857\n",
            "Data columns (total 2 columns):\n",
            " #   Column  Non-Null Count  Dtype \n",
            "---  ------  --------------  ----- \n",
            " 0   label   11838 non-null  int64 \n",
            " 1   text    11838 non-null  object\n",
            "dtypes: int64(1), object(1)\n",
            "memory usage: 277.5+ KB\n",
            "None\n"
          ]
        }
      ]
    },
    {
      "cell_type": "markdown",
      "source": [
        "# Feature Extraction & Feature Selection"
      ],
      "metadata": {
        "id": "jzaRlIWVQ6uH"
      }
    },
    {
      "cell_type": "code",
      "source": [
        "# Vectorivation\n",
        "\n",
        "from sklearn.feature_extraction.text import TfidfVectorizer\n",
        "# Initialize the TF-IDF vectorizer with custom settings\n",
        "\n",
        "#Feature Selection:\n",
        "\n",
        "tfidf = TfidfVectorizer(\n",
        "    #max_features=5000,\n",
        "    #ngram_range=(1, 2),\n",
        "    # convert the normalized_stopwrods set to a list to make it work correctly with vectorization step\n",
        "    #stop_words= list(normalized_stopwords),\n",
        "    max_features=10000,        # Use the top 10,000 most important words\n",
        "    ngram_range=(1, 3),        # Include unigrams, bigrams, and trigrams\n",
        "    min_df=3,                  # Ignore words that appear in fewer than 3 documents\n",
        "    max_df=0.9                 # Ignore words that appear in more than 90% of the documents\n",
        "\n",
        ")\n",
        "\n",
        "#Feature Extraction:\n",
        "\n",
        "# Apply the vectorizer to the 'text' column to convert it into numeric features\n",
        "X = tfidf.fit_transform(df['text'])\n",
        "# Set the target labels (depressed = 1, non-depressed = 0)\n",
        "y = df['label']"
      ],
      "metadata": {
        "id": "9YvOyy94nqFB"
      },
      "execution_count": null,
      "outputs": []
    },
    {
      "cell_type": "code",
      "source": [
        "print(tfidf.get_feature_names_out()[:20])  # peek at vocabulary\n"
      ],
      "metadata": {
        "colab": {
          "base_uri": "https://localhost:8080/"
        },
        "id": "UMWULTM3GZUF",
        "outputId": "a609abcc-1b8b-49c0-afcc-e2d9a9a5a251"
      },
      "execution_count": null,
      "outputs": [
        {
          "output_type": "stream",
          "name": "stdout",
          "text": [
            "['ءثر' 'ءجر' 'ءخر' 'ءذي' 'ءسف' 'ءشر' 'ءقت' 'ءكد' 'ءلم' 'ءلم تنم'\n",
            " 'ءلم تنم ليل' 'ءلم جمل' 'ءلم جمل ذكر' 'ءمر' 'ءمن' 'ءمن افق' 'ءمن افق غيب'\n",
            " 'اءم' 'ااه' 'ابا']\n"
          ]
        }
      ]
    },
    {
      "cell_type": "markdown",
      "source": [
        "# Feature Classification"
      ],
      "metadata": {
        "id": "sRQMwYmZRtfe"
      }
    },
    {
      "cell_type": "code",
      "source": [
        " # Split into training (80%) and testing (20%)\n",
        "\n",
        "from sklearn.model_selection import train_test_split\n",
        "X_train, X_test, y_train, y_test = train_test_split(\n",
        "    X,  # TF-IDF vectors (features)\n",
        "    y,  # Labels (0 = non-depressed, 1 = depressed)\n",
        "    test_size=0.2,  # 20% for testing\n",
        "    random_state=42,  # ensures the split is the same every time (for reproducibility)\n",
        "    stratify=y # Ensures balanced class distribution in both sets\n",
        ")\n",
        "\n",
        "print(f\"Training samples: {X_train.shape[0]}\")\n",
        "print(f\"Testing samples: {X_test.shape[0]}\")\n",
        "\n",
        "\n",
        "\n"
      ],
      "metadata": {
        "colab": {
          "base_uri": "https://localhost:8080/"
        },
        "id": "7lWIADAvp5Gd",
        "outputId": "b0bd25e5-11c0-4259-a4f3-cab77dfe20d1"
      },
      "execution_count": null,
      "outputs": [
        {
          "output_type": "stream",
          "name": "stdout",
          "text": [
            "Training samples: 9470\n",
            "Testing samples: 2368\n"
          ]
        }
      ]
    },
    {
      "cell_type": "markdown",
      "source": [
        "\n",
        "\n",
        "# Decision Tree\n",
        "\n",
        "a model that asks yes/no questions to split the data step-by-step, like a flowchart, until it makes a final decision — such as 'depressed' or 'not depressed’\n",
        "\n"
      ],
      "metadata": {
        "id": "VYS1cTWJpUTj"
      }
    },
    {
      "cell_type": "code",
      "source": [
        "from sklearn.tree import DecisionTreeClassifier\n",
        "from sklearn.metrics import classification_report\n",
        "\n",
        "#create the Decision Tree model\n",
        "dt_model = DecisionTreeClassifier(random_state=42)\n",
        "\n",
        "#You train the model using your training data (X_train) and labels (y_train)\n",
        "dt_model.fit(X_train, y_train)\n",
        "\n",
        "#The model makes predictions on new (test) data\n",
        "y_pred = dt_model.predict(X_test)\n",
        "\n",
        "#print a report showing how well the model did (accuracy, precision, recall, etc.)\n",
        "print(classification_report(y_test, y_pred))"
      ],
      "metadata": {
        "colab": {
          "base_uri": "https://localhost:8080/"
        },
        "id": "HTSp9KN_piYn",
        "outputId": "aa40af39-d3fe-43df-f564-beb42d2334fb"
      },
      "execution_count": null,
      "outputs": [
        {
          "output_type": "stream",
          "name": "stdout",
          "text": [
            "              precision    recall  f1-score   support\n",
            "\n",
            "           0       0.92      0.90      0.91      1183\n",
            "           1       0.90      0.92      0.91      1185\n",
            "\n",
            "    accuracy                           0.91      2368\n",
            "   macro avg       0.91      0.91      0.91      2368\n",
            "weighted avg       0.91      0.91      0.91      2368\n",
            "\n"
          ]
        }
      ]
    },
    {
      "cell_type": "code",
      "source": [
        "from sklearn.tree import plot_tree\n",
        "import matplotlib.pyplot as plt\n",
        "\n",
        "#Set the size of the tree diagram (wider and taller to make it readable)\n",
        "plt.figure(figsize=(20, 10))\n",
        "\n",
        "#filled=True colors the boxes to show class results.\n",
        "#feature_names=... shows the words used in decisions.\n",
        "#max_depth=3 limits the tree to the top 3 levels (for clarity).\n",
        "plot_tree(dt_model, filled=True, feature_names=tfidf.get_feature_names_out(), max_depth=3)\n",
        "\n",
        "plt.show()"
      ],
      "metadata": {
        "colab": {
          "base_uri": "https://localhost:8080/",
          "height": 807
        },
        "id": "BoE9eMUoqTWj",
        "outputId": "6ce34cec-152f-4417-f4b1-ff327101d967"
      },
      "execution_count": null,
      "outputs": [
        {
          "output_type": "display_data",
          "data": {
            "text/plain": [
              "<Figure size 2000x1000 with 1 Axes>"
            ],
            "image/png": "[encoded data removed]"
          },
          "metadata": {}
        }
      ]
    },
    {
      "cell_type": "markdown",
      "source": [
        "# SVM [ Support Vector Machine ]\n",
        "a machine learning model that tries to draw a line (or boundary) that best separates classes (like depressed vs. not depressed)"
      ],
      "metadata": {
        "id": "6pTaObY0NDjf"
      }
    },
    {
      "cell_type": "code",
      "source": [
        "from sklearn.svm import SVC  # Import SVM classifier\n",
        "\n",
        "# Initialize SVM with a linear kernel\n",
        "svm_model = SVC(kernel='linear', random_state=42)\n",
        "\n",
        "# Train the model\n",
        "svm_model.fit(X_train, y_train)\n",
        "\n",
        "# Evaluate on the test set\n",
        "y_pred = svm_model.predict(X_test)\n",
        "print(classification_report(y_test, y_pred))"
      ],
      "metadata": {
        "id": "Yav6jh2KrH6l",
        "colab": {
          "base_uri": "https://localhost:8080/"
        },
        "outputId": "67585730-1763-47c6-9c2a-31b5c6f144cf"
      },
      "execution_count": null,
      "outputs": [
        {
          "output_type": "stream",
          "name": "stdout",
          "text": [
            "              precision    recall  f1-score   support\n",
            "\n",
            "           0       0.93      0.96      0.94      1183\n",
            "           1       0.96      0.93      0.94      1185\n",
            "\n",
            "    accuracy                           0.94      2368\n",
            "   macro avg       0.94      0.94      0.94      2368\n",
            "weighted avg       0.94      0.94      0.94      2368\n",
            "\n"
          ]
        }
      ]
    },
    {
      "cell_type": "code",
      "source": [
        "from sklearn.decomposition import PCA\n",
        "import matplotlib.pyplot as plt\n",
        "import numpy as np\n",
        "\n",
        "# Reduce TF-IDF features to 2D\n",
        "pca = PCA(n_components=2)\n",
        "X_reduced = pca.fit_transform(X_train.toarray())\n",
        "\n",
        "# Fit SVM on reduced data\n",
        "svm_vis = SVC(kernel='linear')\n",
        "svm_vis.fit(X_reduced, y_train)\n",
        "\n",
        "# Plot\n",
        "h = .02\n",
        "x_min, x_max = X_reduced[:, 0].min() - 1, X_reduced[:, 0].max() + 1\n",
        "y_min, y_max = X_reduced[:, 1].min() - 1, X_reduced[:, 1].max() + 1\n",
        "xx, yy = np.meshgrid(np.arange(x_min, x_max, h),\n",
        "                     np.arange(y_min, y_max, h))\n",
        "\n",
        "Z = svm_vis.predict(np.c_[xx.ravel(), yy.ravel()])\n",
        "Z = Z.reshape(xx.shape)\n",
        "\n",
        "plt.contourf(xx, yy, Z, alpha=0.4)\n",
        "plt.scatter(X_reduced[:, 0], X_reduced[:, 1], c=y_train, edgecolors='k')\n",
        "plt.title(\"SVM Decision Boundary (PCA 2D)\")\n",
        "plt.show()\n"
      ],
      "metadata": {
        "colab": {
          "base_uri": "https://localhost:8080/",
          "height": 452
        },
        "id": "y5JyGqkfu8eT",
        "outputId": "cfc30049-9e59-4e92-cc56-19d5e75d7548",
        "collapsed": true
      },
      "execution_count": null,
      "outputs": [
        {
          "output_type": "display_data",
          "data": {
            "text/plain": [
              "<Figure size 640x480 with 1 Axes>"
            ],
            "image/png": "[encoded data removed]"
          },
          "metadata": {}
        }
      ]
    },
    {
      "cell_type": "markdown",
      "source": [
        "# Logistic Regression\n",
        "It works by calculating a probability for each class (0 or 1).\n",
        "If the probability > 0.5 → class 1, else → class 0"
      ],
      "metadata": {
        "id": "DrC45reuX1pf"
      }
    },
    {
      "cell_type": "code",
      "source": [
        "from sklearn.linear_model import LogisticRegression\n",
        "from sklearn.metrics import classification_report\n",
        "\n",
        "# Initialize the model\n",
        "lr_model = LogisticRegression(random_state=42, max_iter=1000)\n",
        "\n",
        "# Train the model\n",
        "lr_model.fit(X_train, y_train)\n",
        "\n",
        "# Predict on test set\n",
        "y_pred = lr_model.predict(X_test)\n",
        "\n",
        "# Print results\n",
        "print(classification_report(y_test, y_pred))\n"
      ],
      "metadata": {
        "colab": {
          "base_uri": "https://localhost:8080/"
        },
        "id": "0KjfA8nsX0V2",
        "outputId": "0d370dd3-b900-4fa9-90dd-c1a916a948c9"
      },
      "execution_count": null,
      "outputs": [
        {
          "output_type": "stream",
          "name": "stdout",
          "text": [
            "              precision    recall  f1-score   support\n",
            "\n",
            "           0       0.93      0.96      0.94      1183\n",
            "           1       0.95      0.93      0.94      1185\n",
            "\n",
            "    accuracy                           0.94      2368\n",
            "   macro avg       0.94      0.94      0.94      2368\n",
            "weighted avg       0.94      0.94      0.94      2368\n",
            "\n"
          ]
        }
      ]
    },
    {
      "cell_type": "code",
      "source": [
        "from sklearn.linear_model import LogisticRegression\n",
        "from sklearn.decomposition import PCA\n",
        "import matplotlib.pyplot as plt\n",
        "import numpy as np\n",
        "\n",
        "# Reduce TF-IDF features to 2D for plotting\n",
        "pca = PCA(n_components=2)\n",
        "X_train_2D = pca.fit_transform(X_train.toarray())\n",
        "X_test_2D = pca.transform(X_test.toarray())\n",
        "\n",
        "# Train logistic regression on 2D data\n",
        "lr_model = LogisticRegression()\n",
        "lr_model.fit(X_train_2D, y_train)\n",
        "\n",
        "# Create a mesh to plot decision boundary\n",
        "x_min, x_max = X_train_2D[:, 0].min() - 1, X_train_2D[:, 0].max() + 1\n",
        "y_min, y_max = X_train_2D[:, 1].min() - 1, X_train_2D[:, 1].max() + 1\n",
        "xx, yy = np.meshgrid(np.linspace(x_min, x_max, 200),\n",
        "                     np.linspace(y_min, y_max, 200))\n",
        "Z = lr_model.predict(np.c_[xx.ravel(), yy.ravel()])\n",
        "Z = Z.reshape(xx.shape)\n",
        "\n",
        "# Plot\n",
        "plt.figure(figsize=(10, 6))\n",
        "plt.contourf(xx, yy, Z, alpha=0.3, cmap=plt.cm.coolwarm)\n",
        "plt.scatter(X_test_2D[:, 0], X_test_2D[:, 1], c=y_test, cmap=plt.cm.coolwarm, edgecolors='k')\n",
        "plt.title(\"Logistic Regression Decision Boundary (2D)\")\n",
        "plt.xlabel(\"PCA 1\")\n",
        "plt.ylabel(\"PCA 2\")\n",
        "plt.show()\n"
      ],
      "metadata": {
        "colab": {
          "base_uri": "https://localhost:8080/",
          "height": 564
        },
        "id": "ZPcLWYd_ydAB",
        "outputId": "e11a92ea-57bd-4edf-a01f-8fbc7feaedfe"
      },
      "execution_count": null,
      "outputs": [
        {
          "output_type": "display_data",
          "data": {
            "text/plain": [
              "<Figure size 1000x600 with 1 Axes>"
            ],
            "image/png": "[encoded data removed]"
          },
          "metadata": {}
        }
      ]
    },
    {
      "cell_type": "markdown",
      "source": [
        "# Naive Bayes\n",
        "It assumes that all words (features) are independent — that's why it's called \"naive\".\n",
        "\n",
        "It calculates:\n",
        "➤ How likely is each class given the words in a sentence?\n",
        "➤ Picks the class with the highest probability."
      ],
      "metadata": {
        "id": "-r79OUFNYvK0"
      }
    },
    {
      "cell_type": "code",
      "source": [
        "from sklearn.naive_bayes import MultinomialNB\n",
        "from sklearn.metrics import classification_report\n",
        "\n",
        "# Initialize the Naive Bayes model\n",
        "nb_model = MultinomialNB()\n",
        "\n",
        "# Train the model\n",
        "nb_model.fit(X_train, y_train)\n",
        "\n",
        "# Predict on test data\n",
        "y_pred = nb_model.predict(X_test)\n",
        "\n",
        "# Print evaluation metrics\n",
        "print(classification_report(y_test, y_pred))\n"
      ],
      "metadata": {
        "colab": {
          "base_uri": "https://localhost:8080/"
        },
        "id": "iKwvszAYYlZc",
        "outputId": "878625fc-e9f7-4225-e6ab-c2b589183d17"
      },
      "execution_count": null,
      "outputs": [
        {
          "output_type": "stream",
          "name": "stdout",
          "text": [
            "              precision    recall  f1-score   support\n",
            "\n",
            "           0       0.94      0.90      0.92      1183\n",
            "           1       0.90      0.94      0.92      1185\n",
            "\n",
            "    accuracy                           0.92      2368\n",
            "   macro avg       0.92      0.92      0.92      2368\n",
            "weighted avg       0.92      0.92      0.92      2368\n",
            "\n"
          ]
        }
      ]
    },
    {
      "cell_type": "markdown",
      "source": [
        "# K-Nearest Neighbors (KNN)"
      ],
      "metadata": {
        "id": "ygj3e_02ZryQ"
      }
    },
    {
      "cell_type": "code",
      "source": [
        "from sklearn.neighbors import KNeighborsClassifier\n",
        "from sklearn.metrics import classification_report\n",
        "\n",
        "# Initialize KNN model with k=5 (you can change this number)\n",
        "knn_model = KNeighborsClassifier(n_neighbors=5)\n",
        "\n",
        "# Train the model\n",
        "knn_model.fit(X_train, y_train)\n",
        "\n",
        "# Predict on test data\n",
        "y_pred = knn_model.predict(X_test)\n",
        "\n",
        "# Print evaluation metrics\n",
        "print(classification_report(y_test, y_pred))\n"
      ],
      "metadata": {
        "colab": {
          "base_uri": "https://localhost:8080/"
        },
        "id": "WPavq3k-ZqHC",
        "outputId": "96f0629b-56b9-4865-eaa3-0570d1667142"
      },
      "execution_count": null,
      "outputs": [
        {
          "output_type": "stream",
          "name": "stdout",
          "text": [
            "              precision    recall  f1-score   support\n",
            "\n",
            "           0       0.84      0.81      0.83      1183\n",
            "           1       0.82      0.85      0.83      1185\n",
            "\n",
            "    accuracy                           0.83      2368\n",
            "   macro avg       0.83      0.83      0.83      2368\n",
            "weighted avg       0.83      0.83      0.83      2368\n",
            "\n"
          ]
        }
      ]
    },
    {
      "cell_type": "markdown",
      "source": [
        "# Stochastic Gradient Descent (SGD)"
      ],
      "metadata": {
        "id": "NogZSQPXcfHA"
      }
    },
    {
      "cell_type": "code",
      "source": [
        "from sklearn.linear_model import SGDClassifier\n",
        "from sklearn.metrics import classification_report\n",
        "\n",
        "# Initialize SGD model with a loss function (e.g., 'hinge' for SVM-like or 'log_loss' for logistic regression)\n",
        "sgd_model = SGDClassifier(loss='hinge', random_state=42)\n",
        "\n",
        "# Train the model\n",
        "sgd_model.fit(X_train, y_train)\n",
        "\n",
        "# Predict on test set\n",
        "y_pred = sgd_model.predict(X_test)\n",
        "\n",
        "# Evaluate the results\n",
        "print(classification_report(y_test, y_pred))"
      ],
      "metadata": {
        "colab": {
          "base_uri": "https://localhost:8080/"
        },
        "id": "seoSAamjcg-w",
        "outputId": "2f6e916d-0114-4173-c490-6a5303a4e42a"
      },
      "execution_count": null,
      "outputs": [
        {
          "output_type": "stream",
          "name": "stdout",
          "text": [
            "              precision    recall  f1-score   support\n",
            "\n",
            "           0       0.93      0.96      0.94      1183\n",
            "           1       0.96      0.93      0.94      1185\n",
            "\n",
            "    accuracy                           0.94      2368\n",
            "   macro avg       0.94      0.94      0.94      2368\n",
            "weighted avg       0.94      0.94      0.94      2368\n",
            "\n"
          ]
        }
      ]
    },
    {
      "cell_type": "markdown",
      "source": [
        "# Ensemble Models"
      ],
      "metadata": {
        "id": "Q9kvR9fwbGNp"
      }
    },
    {
      "cell_type": "markdown",
      "source": [
        "# Random Forest"
      ],
      "metadata": {
        "id": "vfflzZdcstE0"
      }
    },
    {
      "cell_type": "code",
      "source": [
        "from sklearn.ensemble import RandomForestClassifier\n",
        "\n",
        "rf_model = RandomForestClassifier(n_estimators=100, random_state=42)\n",
        "rf_model.fit(X_train, y_train)\n",
        "y_pred = rf_model.predict(X_test)\n",
        "print(classification_report(y_test, y_pred))"
      ],
      "metadata": {
        "colab": {
          "base_uri": "https://localhost:8080/"
        },
        "id": "YJmd0hkUs0If",
        "outputId": "e378d711-d1cf-4dd3-ff40-40ca6175af90"
      },
      "execution_count": null,
      "outputs": [
        {
          "output_type": "stream",
          "name": "stdout",
          "text": [
            "              precision    recall  f1-score   support\n",
            "\n",
            "           0       0.93      0.95      0.94      1183\n",
            "           1       0.94      0.93      0.93      1185\n",
            "\n",
            "    accuracy                           0.94      2368\n",
            "   macro avg       0.94      0.94      0.94      2368\n",
            "weighted avg       0.94      0.94      0.94      2368\n",
            "\n"
          ]
        }
      ]
    },
    {
      "cell_type": "markdown",
      "source": [
        "# XGBoost (Extreme Gradient Boosting)"
      ],
      "metadata": {
        "id": "qEdtzh6oxoFl"
      }
    },
    {
      "cell_type": "code",
      "source": [
        "!pip install xgboost\n",
        "from xgboost import XGBClassifier\n",
        "from sklearn.metrics import classification_report\n",
        "\n",
        "# Initialize the XGBoost model\n",
        "xgb_model = XGBClassifier(use_label_encoder=False, eval_metric='logloss', random_state=42)\n",
        "\n",
        "# Train the model\n",
        "xgb_model.fit(X_train, y_train)\n",
        "\n",
        "# Predict on test set\n",
        "y_pred = xgb_model.predict(X_test)\n",
        "\n",
        "# Print classification report\n",
        "print(classification_report(y_test, y_pred))"
      ],
      "metadata": {
        "colab": {
          "base_uri": "https://localhost:8080/"
        },
        "id": "-b4GnYlzbwRj",
        "outputId": "8b40e4a4-e2c5-4dcd-f98a-46c4abc41913"
      },
      "execution_count": null,
      "outputs": [
        {
          "output_type": "stream",
          "name": "stdout",
          "text": [
            "Requirement already satisfied: xgboost in /usr/local/lib/python3.11/dist-packages (2.1.4)\n",
            "Requirement already satisfied: numpy in /usr/local/lib/python3.11/dist-packages (from xgboost) (2.0.2)\n",
            "Requirement already satisfied: nvidia-nccl-cu12 in /usr/local/lib/python3.11/dist-packages (from xgboost) (2.21.5)\n",
            "Requirement already satisfied: scipy in /usr/local/lib/python3.11/dist-packages (from xgboost) (1.15.3)\n"
          ]
        },
        {
          "output_type": "stream",
          "name": "stderr",
          "text": [
            "/usr/local/lib/python3.11/dist-packages/xgboost/core.py:158: UserWarning: [12:34:04] WARNING: /workspace/src/learner.cc:740: \n",
            "Parameters: { \"use_label_encoder\" } are not used.\n",
            "\n",
            "  warnings.warn(smsg, UserWarning)\n"
          ]
        },
        {
          "output_type": "stream",
          "name": "stdout",
          "text": [
            "              precision    recall  f1-score   support\n",
            "\n",
            "           0       0.92      0.97      0.94      1183\n",
            "           1       0.97      0.91      0.94      1185\n",
            "\n",
            "    accuracy                           0.94      2368\n",
            "   macro avg       0.94      0.94      0.94      2368\n",
            "weighted avg       0.94      0.94      0.94      2368\n",
            "\n"
          ]
        }
      ]
    },
    {
      "cell_type": "markdown",
      "source": [],
      "metadata": {
        "id": "9GqtKpoOb9lR"
      }
    },
    {
      "cell_type": "markdown",
      "source": [
        "# Voting Classifier"
      ],
      "metadata": {
        "id": "ZQFSFcESf5gr"
      }
    },
    {
      "cell_type": "code",
      "source": [
        "from sklearn.ensemble import VotingClassifier\n",
        "from sklearn.linear_model import LogisticRegression\n",
        "from sklearn.svm import SVC\n",
        "from sklearn.naive_bayes import MultinomialNB\n",
        "\n",
        "voting_model = VotingClassifier(\n",
        "    estimators=[\n",
        "        ('lr', LogisticRegression(max_iter=1000)),\n",
        "        ('svm', SVC(kernel='linear', probability=True)),\n",
        "        ('nb', MultinomialNB())\n",
        "    ],\n",
        "    voting='soft'\n",
        ")\n",
        "\n",
        "voting_model.fit(X_train, y_train)\n",
        "y_pred = voting_model.predict(X_test)\n",
        "print(classification_report(y_test, y_pred))\n"
      ],
      "metadata": {
        "colab": {
          "base_uri": "https://localhost:8080/"
        },
        "id": "rLR6mveRf7XU",
        "outputId": "73dee153-de15-4abe-a312-3278f2959d63"
      },
      "execution_count": null,
      "outputs": [
        {
          "output_type": "stream",
          "name": "stdout",
          "text": [
            "              precision    recall  f1-score   support\n",
            "\n",
            "           0       0.94      0.95      0.94      1183\n",
            "           1       0.95      0.94      0.94      1185\n",
            "\n",
            "    accuracy                           0.94      2368\n",
            "   macro avg       0.94      0.94      0.94      2368\n",
            "weighted avg       0.94      0.94      0.94      2368\n",
            "\n"
          ]
        }
      ]
    },
    {
      "cell_type": "markdown",
      "source": [
        "# AdaBoost (Adaptive Boosting)"
      ],
      "metadata": {
        "id": "bHH4ThfSo34k"
      }
    },
    {
      "cell_type": "code",
      "source": [
        "from sklearn.ensemble import AdaBoostClassifier\n",
        "\n",
        "adaboost_model = AdaBoostClassifier(n_estimators=100, random_state=42)\n",
        "adaboost_model.fit(X_train, y_train)\n",
        "y_pred = adaboost_model.predict(X_test)\n",
        "print(classification_report(y_test, y_pred))"
      ],
      "metadata": {
        "colab": {
          "base_uri": "https://localhost:8080/"
        },
        "id": "9F80CYuCoxJB",
        "outputId": "1801d578-fe8e-47a7-ffda-d4ad380ceb78"
      },
      "execution_count": null,
      "outputs": [
        {
          "output_type": "stream",
          "name": "stdout",
          "text": [
            "              precision    recall  f1-score   support\n",
            "\n",
            "           0       0.78      0.99      0.87      1183\n",
            "           1       0.98      0.71      0.83      1185\n",
            "\n",
            "    accuracy                           0.85      2368\n",
            "   macro avg       0.88      0.85      0.85      2368\n",
            "weighted avg       0.88      0.85      0.85      2368\n",
            "\n"
          ]
        }
      ]
    },
    {
      "cell_type": "markdown",
      "source": [
        "# Stacking (Stacked Generalization)"
      ],
      "metadata": {
        "id": "VJoKwYi4o-wm"
      }
    },
    {
      "cell_type": "code",
      "source": [
        "from sklearn.ensemble import StackingClassifier\n",
        "from sklearn.linear_model import LogisticRegression\n",
        "from sklearn.naive_bayes import MultinomialNB\n",
        "from sklearn.svm import SVC\n",
        "\n",
        "base_models = [\n",
        "    ('svm', SVC(kernel='linear', probability=True)),\n",
        "    ('nb', MultinomialNB())\n",
        "]\n",
        "\n",
        "stack_model = StackingClassifier(estimators=base_models, final_estimator=LogisticRegression())\n",
        "stack_model.fit(X_train, y_train)\n",
        "y_pred = stack_model.predict(X_test)\n",
        "print(classification_report(y_test, y_pred))\n"
      ],
      "metadata": {
        "colab": {
          "base_uri": "https://localhost:8080/"
        },
        "id": "4o2t5_dbo_h7",
        "outputId": "2a54e95d-78f7-4831-a72a-a5c5e360671f"
      },
      "execution_count": null,
      "outputs": [
        {
          "output_type": "stream",
          "name": "stdout",
          "text": [
            "              precision    recall  f1-score   support\n",
            "\n",
            "           0       0.94      0.95      0.95      1183\n",
            "           1       0.95      0.94      0.94      1185\n",
            "\n",
            "    accuracy                           0.94      2368\n",
            "   macro avg       0.94      0.94      0.94      2368\n",
            "weighted avg       0.94      0.94      0.94      2368\n",
            "\n"
          ]
        }
      ]
    },
    {
      "cell_type": "markdown",
      "source": [
        "# Deep Learning"
      ],
      "metadata": {
        "id": "61b6e467dAKv"
      }
    },
    {
      "cell_type": "markdown",
      "source": [
        "# Multi-Layer Perceptron (MLP)"
      ],
      "metadata": {
        "id": "amaRKRfVdSB3"
      }
    },
    {
      "cell_type": "code",
      "source": [
        "from sklearn.neural_network import MLPClassifier\n",
        "from sklearn.metrics import classification_report\n",
        "\n",
        "# Initialize MLP model\n",
        "mlp_model = MLPClassifier(hidden_layer_sizes=(100,), max_iter=300, random_state=42)\n",
        "\n",
        "# Train the model\n",
        "mlp_model.fit(X_train, y_train)\n",
        "\n",
        "# Predict on test set\n",
        "y_pred = mlp_model.predict(X_test)\n",
        "\n",
        "# Evaluate the model\n",
        "print(classification_report(y_test, y_pred))"
      ],
      "metadata": {
        "colab": {
          "base_uri": "https://localhost:8080/"
        },
        "id": "QwwimIe3dEXs",
        "outputId": "792798e9-a0bc-4cd3-a9fa-2f79cd4b221e"
      },
      "execution_count": null,
      "outputs": [
        {
          "output_type": "stream",
          "name": "stdout",
          "text": [
            "              precision    recall  f1-score   support\n",
            "\n",
            "           0       0.92      0.92      0.92      1183\n",
            "           1       0.92      0.92      0.92      1185\n",
            "\n",
            "    accuracy                           0.92      2368\n",
            "   macro avg       0.92      0.92      0.92      2368\n",
            "weighted avg       0.92      0.92      0.92      2368\n",
            "\n"
          ]
        }
      ]
    },
    {
      "cell_type": "markdown",
      "source": [
        "# LSTM (Long Short-Term Memory)"
      ],
      "metadata": {
        "id": "8IIV_xDKdVW-"
      }
    },
    {
      "cell_type": "code",
      "source": [
        "import tensorflow as tf\n",
        "from tensorflow.keras.models import Sequential\n",
        "from tensorflow.keras.layers import Embedding, LSTM, Dense, Dropout, Bidirectional\n",
        "from tensorflow.keras.preprocessing.text import Tokenizer\n",
        "from tensorflow.keras.preprocessing.sequence import pad_sequences\n",
        "from tensorflow.keras.callbacks import EarlyStopping, ModelCheckpoint\n",
        "from imblearn.over_sampling import RandomOverSampler\n",
        "import numpy as np\n",
        "import matplotlib.pyplot as plt\n",
        "from sklearn.metrics import accuracy_score, precision_score, recall_score, f1_score, confusion_matrix\n",
        "\n",
        "# Make sure X_train contains the raw text data, not a sparse matrix\n",
        "# If X_train is a sparse matrix, you need to get the original text data\n",
        "\n",
        "X = df['text']  # Raw text\n",
        "y = df['label']\n",
        "X_train, X_test, y_train, y_test = train_test_split(X, y, test_size=0.2, random_state=42)\n",
        "# Tokenization\n",
        "tokenizer = Tokenizer()\n",
        "tokenizer.fit_on_texts(X_train)  # X_train should be a list/array of strings\n",
        "\n",
        "vocab_size = len(tokenizer.word_index) + 1\n",
        "print(f\"Vocabulary size: {vocab_size}\")\n",
        "\n",
        "# Convert text to sequences\n",
        "X_train_seq = tokenizer.texts_to_sequences(X_train)\n",
        "X_test_seq = tokenizer.texts_to_sequences(X_test)\n",
        "\n",
        "# Pad sequences\n",
        "max_len = 100  # Adjust based on your text length distribution\n",
        "X_train_pad = pad_sequences(X_train_seq, maxlen=max_len, padding='post')\n",
        "X_test_pad = pad_sequences(X_test_seq, maxlen=max_len, padding='post')\n",
        "\n",
        "# Handle class imbalance\n",
        "# Need to reshape for RandomOverSampler\n",
        "X_train_reshaped = X_train_pad.reshape(X_train_pad.shape[0], -1)\n",
        "ros = RandomOverSampler(random_state=42)\n",
        "X_train_resampled, y_train_resampled = ros.fit_resample(X_train_reshaped, y_train)\n",
        "\n",
        "# Reshape back to original dimensions\n",
        "X_train_resampled = X_train_resampled.reshape(-1, max_len)\n",
        "\n",
        "# LSTM Model\n",
        "embedding_dim = 128  # Dimension of word embeddings\n",
        "lstm_units = 64      # Number of LSTM units\n",
        "\n",
        "model = Sequential([\n",
        "    Embedding(input_dim=vocab_size, output_dim=embedding_dim, input_length=max_len),\n",
        "    Bidirectional(LSTM(lstm_units, return_sequences=True)),\n",
        "    Dropout(0.5),\n",
        "    Bidirectional(LSTM(lstm_units//2)),\n",
        "    Dropout(0.5),\n",
        "    Dense(1, activation='sigmoid')\n",
        "])\n",
        "\n",
        "model.compile(\n",
        "    optimizer='adam',\n",
        "    loss='binary_crossentropy',\n",
        "    metrics=['accuracy', tf.keras.metrics.Precision(), tf.keras.metrics.Recall()]\n",
        ")\n",
        "\n",
        "\n",
        "# Callbacks\n",
        "early_stopping = EarlyStopping(monitor='val_loss', patience=3, restore_best_weights=True)\n",
        "model_checkpoint = ModelCheckpoint('best_lstm_model.h5', save_best_only=True, monitor='val_loss')\n",
        "\n",
        "# Train the model\n",
        "history = model.fit(\n",
        "    X_train_resampled,\n",
        "    y_train_resampled,\n",
        "    validation_split=0.2,\n",
        "    epochs=15,\n",
        "    batch_size=64,\n",
        "    callbacks=[early_stopping, model_checkpoint],\n",
        "    verbose=1\n",
        ")\n",
        "\n",
        "# Plot training history\n",
        "plt.figure(figsize=(12, 4))\n",
        "plt.subplot(1, 2, 1)\n",
        "plt.plot(history.history['loss'], label='Train Loss')\n",
        "plt.plot(history.history['val_loss'], label='Validation Loss')\n",
        "plt.legend()\n",
        "plt.title('Loss Evolution')\n",
        "\n",
        "plt.subplot(1, 2, 2)\n",
        "plt.plot(history.history['accuracy'], label='Train Accuracy')\n",
        "plt.plot(history.history['val_accuracy'], label='Validation Accuracy')\n",
        "plt.legend()\n",
        "plt.title('Accuracy Evolution')\n",
        "plt.show()\n",
        "\n",
        "# Load best model\n",
        "lstm_model = tf.keras.models.load_model('best_lstm_model.h5')\n",
        "\n",
        "# Evaluate on test set\n",
        "y_pred_probs = lstm_model.predict(X_test_pad)\n",
        "y_pred = (y_pred_probs > 0.5).astype(int)\n",
        "\n"
      ],
      "metadata": {
        "colab": {
          "base_uri": "https://localhost:8080/",
          "height": 721
        },
        "id": "RHM7Vw5T5e2m",
        "outputId": "83b85aa9-70b1-4d0e-f34a-1755ece39fa2"
      },
      "execution_count": null,
      "outputs": [
        {
          "output_type": "stream",
          "name": "stdout",
          "text": [
            "Vocabulary size: 6633\n",
            "Epoch 1/15\n"
          ]
        },
        {
          "output_type": "stream",
          "name": "stderr",
          "text": [
            "/usr/local/lib/python3.11/dist-packages/keras/src/layers/core/embedding.py:90: UserWarning: Argument `input_length` is deprecated. Just remove it.\n",
            "  warnings.warn(\n"
          ]
        },
        {
          "output_type": "stream",
          "name": "stdout",
          "text": [
            "\u001b[1m119/119\u001b[0m \u001b[32m━━━━━━━━━━━━━━━━━━━━\u001b[0m\u001b[37m\u001b[0m \u001b[1m0s\u001b[0m 408ms/step - accuracy: 0.7403 - loss: 0.5176 - precision_2: 0.7638 - recall_2: 0.6899"
          ]
        },
        {
          "output_type": "stream",
          "name": "stderr",
          "text": [
            "WARNING:absl:You are saving your model as an HDF5 file via `model.save()` or `keras.saving.save_model(model)`. This file format is considered legacy. We recommend using instead the native Keras format, e.g. `model.save('my_model.keras')` or `keras.saving.save_model(model, 'my_model.keras')`. \n"
          ]
        },
        {
          "output_type": "stream",
          "name": "stdout",
          "text": [
            "\b\b\b\b\b\b\b\b\b\b\b\b\b\b\b\b\b\b\b\b\b\b\b\b\b\b\b\b\b\b\b\b\b\b\b\b\b\b\b\b\b\b\b\b\b\b\b\b\b\b\b\b\b\b\b\b\b\b\b\b\b\b\b\b\b\b\b\b\b\b\b\b\b\b\b\b\b\b\b\b\b\b\b\b\b\b\b\b\b\b\b\b\b\b\b\b\b\b\b\b\b\b\b\b\b\b\b\b\b\b\b\b\b\b\b\b\b\r\u001b[1m119/119\u001b[0m \u001b[32m━━━━━━━━━━━━━━━━━━━━\u001b[0m\u001b[37m\u001b[0m \u001b[1m67s\u001b[0m 462ms/step - accuracy: 0.7412 - loss: 0.5163 - precision_2: 0.7647 - recall_2: 0.6910 - val_accuracy: 0.9359 - val_loss: 0.1794 - val_precision_2: 0.9299 - val_recall_2: 0.9470\n",
            "Epoch 2/15\n",
            "\u001b[1m119/119\u001b[0m \u001b[32m━━━━━━━━━━━━━━━━━━━━\u001b[0m\u001b[37m\u001b[0m \u001b[1m0s\u001b[0m 400ms/step - accuracy: 0.9610 - loss: 0.1316 - precision_2: 0.9663 - recall_2: 0.9542"
          ]
        },
        {
          "output_type": "stream",
          "name": "stderr",
          "text": [
            "WARNING:absl:You are saving your model as an HDF5 file via `model.save()` or `keras.saving.save_model(model)`. This file format is considered legacy. We recommend using instead the native Keras format, e.g. `model.save('my_model.keras')` or `keras.saving.save_model(model, 'my_model.keras')`. \n"
          ]
        },
        {
          "output_type": "stream",
          "name": "stdout",
          "text": [
            "\b\b\b\b\b\b\b\b\b\b\b\b\b\b\b\b\b\b\b\b\b\b\b\b\b\b\b\b\b\b\b\b\b\b\b\b\b\b\b\b\b\b\b\b\b\b\b\b\b\b\b\b\b\b\b\b\b\b\b\b\b\b\b\b\b\b\b\b\b\b\b\b\b\b\b\b\b\b\b\b\b\b\b\b\b\b\b\b\b\b\b\b\b\b\b\b\b\b\b\b\b\b\b\b\b\b\b\b\b\b\b\b\b\b\b\b\b\r\u001b[1m119/119\u001b[0m \u001b[32m━━━━━━━━━━━━━━━━━━━━\u001b[0m\u001b[37m\u001b[0m \u001b[1m78s\u001b[0m 425ms/step - accuracy: 0.9609 - loss: 0.1318 - precision_2: 0.9663 - recall_2: 0.9541 - val_accuracy: 0.9374 - val_loss: 0.1736 - val_precision_2: 0.9327 - val_recall_2: 0.9470\n",
            "Epoch 3/15\n",
            "\u001b[1m119/119\u001b[0m \u001b[32m━━━━━━━━━━━━━━━━━━━━\u001b[0m\u001b[37m\u001b[0m \u001b[1m54s\u001b[0m 452ms/step - accuracy: 0.9761 - loss: 0.0829 - precision_2: 0.9788 - recall_2: 0.9734 - val_accuracy: 0.9422 - val_loss: 0.1831 - val_precision_2: 0.9467 - val_recall_2: 0.9409\n",
            "Epoch 4/15\n",
            "\u001b[1m119/119\u001b[0m \u001b[32m━━━━━━━━━━━━━━━━━━━━\u001b[0m\u001b[37m\u001b[0m \u001b[1m53s\u001b[0m 449ms/step - accuracy: 0.9876 - loss: 0.0526 - precision_2: 0.9886 - recall_2: 0.9870 - val_accuracy: 0.9285 - val_loss: 0.2184 - val_precision_2: 0.9171 - val_recall_2: 0.9470\n",
            "Epoch 5/15\n",
            "\u001b[1m119/119\u001b[0m \u001b[32m━━━━━━━━━━━━━━━━━━━━\u001b[0m\u001b[37m\u001b[0m \u001b[1m81s\u001b[0m 438ms/step - accuracy: 0.9918 - loss: 0.0356 - precision_2: 0.9921 - recall_2: 0.9915 - val_accuracy: 0.9190 - val_loss: 0.2552 - val_precision_2: 0.9090 - val_recall_2: 0.9368\n"
          ]
        },
        {
          "output_type": "display_data",
          "data": {
            "text/plain": [
              "<Figure size 1200x400 with 2 Axes>"
            ],
            "image/png": "[encoded data removed]"
          },
          "metadata": {}
        },
        {
          "output_type": "stream",
          "name": "stderr",
          "text": [
            "WARNING:absl:Compiled the loaded model, but the compiled metrics have yet to be built. `model.compile_metrics` will be empty until you train or evaluate the model.\n"
          ]
        },
        {
          "output_type": "stream",
          "name": "stdout",
          "text": [
            "\u001b[1m74/74\u001b[0m \u001b[32m━━━━━━━━━━━━━━━━━━━━\u001b[0m\u001b[37m\u001b[0m \u001b[1m4s\u001b[0m 50ms/step\n"
          ]
        }
      ]
    },
    {
      "cell_type": "code",
      "source": [
        "from sklearn.metrics import accuracy_score, precision_score, recall_score, f1_score, roc_auc_score\n",
        "\n",
        "\n",
        "# Calculate metrics\n",
        "accuracy = accuracy_score(y_test, y_pred)\n",
        "precision = precision_score(y_test, y_pred)\n",
        "recall = recall_score(y_test, y_pred)\n",
        "f1 = f1_score(y_test, y_pred)\n",
        "roc_auc = roc_auc_score(y_test, y_pred_probs)\n",
        "\n",
        "print(f\"Accuracy: {accuracy * 100:.2f}%\")\n",
        "print(f\"Precision: {precision:.2f}\")\n",
        "print(f\"Recall: {recall:.2f}\")\n",
        "print(f\"F1 Score: {f1:.2f}\")\n",
        "print(f\"ROC-AUC: {roc_auc:.2f}\")\n",
        "\n",
        "print(lstm_model.summary())\n",
        "\n"
      ],
      "metadata": {
        "colab": {
          "base_uri": "https://localhost:8080/",
          "height": 446
        },
        "id": "Q7gEU3QRlaIj",
        "outputId": "bcfdc0f2-03cd-4827-806a-4ebde5e51311"
      },
      "execution_count": null,
      "outputs": [
        {
          "output_type": "stream",
          "name": "stdout",
          "text": [
            "Accuracy: 94.47%\n",
            "Precision: 0.95\n",
            "Recall: 0.95\n",
            "F1 Score: 0.95\n",
            "ROC-AUC: 0.98\n"
          ]
        },
        {
          "output_type": "display_data",
          "data": {
            "text/plain": [
              "\u001b[1mModel: \"sequential_3\"\u001b[0m\n"
            ],
            "text/html": [
              "<pre style=\"white-space:pre;overflow-x:auto;line-height:normal;font-family:Menlo,'DejaVu Sans Mono',consolas,'Courier New',monospace\"><span style=\"font-weight: bold\">Model: \"sequential_3\"</span>\n",
              "</pre>\n"
            ]
          },
          "metadata": {}
        },
        {
          "output_type": "display_data",
          "data": {
            "text/plain": [
              "┏━━━━━━━━━━━━━━━━━━━━━━━━━━━━━━━━━┳━━━━━━━━━━━━━━━━━━━━━━━━┳━━━━━━━━━━━━━━━┓\n",
              "┃\u001b[1m \u001b[0m\u001b[1mLayer (type)                   \u001b[0m\u001b[1m \u001b[0m┃\u001b[1m \u001b[0m\u001b[1mOutput Shape          \u001b[0m\u001b[1m \u001b[0m┃\u001b[1m \u001b[0m\u001b[1m      Param #\u001b[0m\u001b[1m \u001b[0m┃\n",
              "┡━━━━━━━━━━━━━━━━━━━━━━━━━━━━━━━━━╇━━━━━━━━━━━━━━━━━━━━━━━━╇━━━━━━━━━━━━━━━┩\n",
              "│ embedding_3 (\u001b[38;5;33mEmbedding\u001b[0m)         │ (\u001b[38;5;45mNone\u001b[0m, \u001b[38;5;34m100\u001b[0m, \u001b[38;5;34m128\u001b[0m)       │       \u001b[38;5;34m849,024\u001b[0m │\n",
              "├─────────────────────────────────┼────────────────────────┼───────────────┤\n",
              "│ bidirectional_4 (\u001b[38;5;33mBidirectional\u001b[0m) │ (\u001b[38;5;45mNone\u001b[0m, \u001b[38;5;34m100\u001b[0m, \u001b[38;5;34m128\u001b[0m)       │        \u001b[38;5;34m98,816\u001b[0m │\n",
              "├─────────────────────────────────┼────────────────────────┼───────────────┤\n",
              "│ dropout_5 (\u001b[38;5;33mDropout\u001b[0m)             │ (\u001b[38;5;45mNone\u001b[0m, \u001b[38;5;34m100\u001b[0m, \u001b[38;5;34m128\u001b[0m)       │             \u001b[38;5;34m0\u001b[0m │\n",
              "├─────────────────────────────────┼────────────────────────┼───────────────┤\n",
              "│ bidirectional_5 (\u001b[38;5;33mBidirectional\u001b[0m) │ (\u001b[38;5;45mNone\u001b[0m, \u001b[38;5;34m64\u001b[0m)             │        \u001b[38;5;34m41,216\u001b[0m │\n",
              "├─────────────────────────────────┼────────────────────────┼───────────────┤\n",
              "│ dropout_6 (\u001b[38;5;33mDropout\u001b[0m)             │ (\u001b[38;5;45mNone\u001b[0m, \u001b[38;5;34m64\u001b[0m)             │             \u001b[38;5;34m0\u001b[0m │\n",
              "├─────────────────────────────────┼────────────────────────┼───────────────┤\n",
              "│ dense_4 (\u001b[38;5;33mDense\u001b[0m)                 │ (\u001b[38;5;45mNone\u001b[0m, \u001b[38;5;34m1\u001b[0m)              │            \u001b[38;5;34m65\u001b[0m │\n",
              "└─────────────────────────────────┴────────────────────────┴───────────────┘\n"
            ],
            "text/html": [
              "<pre style=\"white-space:pre;overflow-x:auto;line-height:normal;font-family:Menlo,'DejaVu Sans Mono',consolas,'Courier New',monospace\">┏━━━━━━━━━━━━━━━━━━━━━━━━━━━━━━━━━┳━━━━━━━━━━━━━━━━━━━━━━━━┳━━━━━━━━━━━━━━━┓\n",
              "┃<span style=\"font-weight: bold\"> Layer (type)                    </span>┃<span style=\"font-weight: bold\"> Output Shape           </span>┃<span style=\"font-weight: bold\">       Param # </span>┃\n",
              "┡━━━━━━━━━━━━━━━━━━━━━━━━━━━━━━━━━╇━━━━━━━━━━━━━━━━━━━━━━━━╇━━━━━━━━━━━━━━━┩\n",
              "│ embedding_3 (<span style=\"color: #0087ff; text-decoration-color: #0087ff\">Embedding</span>)         │ (<span style=\"color: #00d7ff; text-decoration-color: #00d7ff\">None</span>, <span style=\"color: #00af00; text-decoration-color: #00af00\">100</span>, <span style=\"color: #00af00; text-decoration-color: #00af00\">128</span>)       │       <span style=\"color: #00af00; text-decoration-color: #00af00\">849,024</span> │\n",
              "├─────────────────────────────────┼────────────────────────┼───────────────┤\n",
              "│ bidirectional_4 (<span style=\"color: #0087ff; text-decoration-color: #0087ff\">Bidirectional</span>) │ (<span style=\"color: #00d7ff; text-decoration-color: #00d7ff\">None</span>, <span style=\"color: #00af00; text-decoration-color: #00af00\">100</span>, <span style=\"color: #00af00; text-decoration-color: #00af00\">128</span>)       │        <span style=\"color: #00af00; text-decoration-color: #00af00\">98,816</span> │\n",
              "├─────────────────────────────────┼────────────────────────┼───────────────┤\n",
              "│ dropout_5 (<span style=\"color: #0087ff; text-decoration-color: #0087ff\">Dropout</span>)             │ (<span style=\"color: #00d7ff; text-decoration-color: #00d7ff\">None</span>, <span style=\"color: #00af00; text-decoration-color: #00af00\">100</span>, <span style=\"color: #00af00; text-decoration-color: #00af00\">128</span>)       │             <span style=\"color: #00af00; text-decoration-color: #00af00\">0</span> │\n",
              "├─────────────────────────────────┼────────────────────────┼───────────────┤\n",
              "│ bidirectional_5 (<span style=\"color: #0087ff; text-decoration-color: #0087ff\">Bidirectional</span>) │ (<span style=\"color: #00d7ff; text-decoration-color: #00d7ff\">None</span>, <span style=\"color: #00af00; text-decoration-color: #00af00\">64</span>)             │        <span style=\"color: #00af00; text-decoration-color: #00af00\">41,216</span> │\n",
              "├─────────────────────────────────┼────────────────────────┼───────────────┤\n",
              "│ dropout_6 (<span style=\"color: #0087ff; text-decoration-color: #0087ff\">Dropout</span>)             │ (<span style=\"color: #00d7ff; text-decoration-color: #00d7ff\">None</span>, <span style=\"color: #00af00; text-decoration-color: #00af00\">64</span>)             │             <span style=\"color: #00af00; text-decoration-color: #00af00\">0</span> │\n",
              "├─────────────────────────────────┼────────────────────────┼───────────────┤\n",
              "│ dense_4 (<span style=\"color: #0087ff; text-decoration-color: #0087ff\">Dense</span>)                 │ (<span style=\"color: #00d7ff; text-decoration-color: #00d7ff\">None</span>, <span style=\"color: #00af00; text-decoration-color: #00af00\">1</span>)              │            <span style=\"color: #00af00; text-decoration-color: #00af00\">65</span> │\n",
              "└─────────────────────────────────┴────────────────────────┴───────────────┘\n",
              "</pre>\n"
            ]
          },
          "metadata": {}
        },
        {
          "output_type": "display_data",
          "data": {
            "text/plain": [
              "\u001b[1m Total params: \u001b[0m\u001b[38;5;34m989,123\u001b[0m (3.77 MB)\n"
            ],
            "text/html": [
              "<pre style=\"white-space:pre;overflow-x:auto;line-height:normal;font-family:Menlo,'DejaVu Sans Mono',consolas,'Courier New',monospace\"><span style=\"font-weight: bold\"> Total params: </span><span style=\"color: #00af00; text-decoration-color: #00af00\">989,123</span> (3.77 MB)\n",
              "</pre>\n"
            ]
          },
          "metadata": {}
        },
        {
          "output_type": "display_data",
          "data": {
            "text/plain": [
              "\u001b[1m Trainable params: \u001b[0m\u001b[38;5;34m989,121\u001b[0m (3.77 MB)\n"
            ],
            "text/html": [
              "<pre style=\"white-space:pre;overflow-x:auto;line-height:normal;font-family:Menlo,'DejaVu Sans Mono',consolas,'Courier New',monospace\"><span style=\"font-weight: bold\"> Trainable params: </span><span style=\"color: #00af00; text-decoration-color: #00af00\">989,121</span> (3.77 MB)\n",
              "</pre>\n"
            ]
          },
          "metadata": {}
        },
        {
          "output_type": "display_data",
          "data": {
            "text/plain": [
              "\u001b[1m Non-trainable params: \u001b[0m\u001b[38;5;34m0\u001b[0m (0.00 B)\n"
            ],
            "text/html": [
              "<pre style=\"white-space:pre;overflow-x:auto;line-height:normal;font-family:Menlo,'DejaVu Sans Mono',consolas,'Courier New',monospace\"><span style=\"font-weight: bold\"> Non-trainable params: </span><span style=\"color: #00af00; text-decoration-color: #00af00\">0</span> (0.00 B)\n",
              "</pre>\n"
            ]
          },
          "metadata": {}
        },
        {
          "output_type": "display_data",
          "data": {
            "text/plain": [
              "\u001b[1m Optimizer params: \u001b[0m\u001b[38;5;34m2\u001b[0m (12.00 B)\n"
            ],
            "text/html": [
              "<pre style=\"white-space:pre;overflow-x:auto;line-height:normal;font-family:Menlo,'DejaVu Sans Mono',consolas,'Courier New',monospace\"><span style=\"font-weight: bold\"> Optimizer params: </span><span style=\"color: #00af00; text-decoration-color: #00af00\">2</span> (12.00 B)\n",
              "</pre>\n"
            ]
          },
          "metadata": {}
        },
        {
          "output_type": "stream",
          "name": "stdout",
          "text": [
            "None\n"
          ]
        }
      ]
    },
    {
      "cell_type": "code",
      "source": [
        "import seaborn as sns\n",
        "import matplotlib.pyplot as plt\n",
        "from sklearn.metrics import confusion_matrix\n",
        "\n",
        "# Confusion Matrix\n",
        "cm = confusion_matrix(y_test, y_pred)\n",
        "sns.heatmap(cm, annot=True, fmt='d', cmap='Blues',\n",
        "            xticklabels=['Non-Depressed', 'Depressed'],\n",
        "            yticklabels=['Non-Depressed', 'Depressed'])\n",
        "plt.title('LSTM Confusion Matrix')\n",
        "plt.xlabel('Predicted')\n",
        "plt.ylabel('Actual')\n",
        "plt.show()\n",
        "\n",
        "# Save tokenizer and model\n",
        "import pickle\n",
        "\n",
        "# Save tokenizer\n",
        "with open('lstm_tokenizer.pkl', 'wb') as handle:\n",
        "    pickle.dump(tokenizer, handle, protocol=pickle.HIGHEST_PROTOCOL)\n",
        "\n",
        "# Save model architecture + weights\n",
        "model.save('lstm_model.h5')\n",
        "\n",
        "print(\"Model and tokenizer saved successfully.\")\n",
        "\n",
        "# Example of loading and using the model\n",
        "loaded_model = tf.keras.models.load_model('lstm_model.h5')\n",
        "\n",
        "with open('lstm_tokenizer.pkl', 'rb') as handle:\n",
        "    loaded_tokenizer = pickle.load(handle)\n",
        "\n",
        "def predict_depression(text):\n",
        "    cleaned_text = data_cleaner(text)\n",
        "    seq = loaded_tokenizer.texts_to_sequences([cleaned_text])\n",
        "    padded = pad_sequences(seq, maxlen=max_len, padding='post')\n",
        "    prob = loaded_model.predict(padded)[0][0]\n",
        "    prediction = 1 if prob > 0.5 else 0\n",
        "    return prediction, prob\n",
        "\n",
        "new_text = \"اشعر بالاكتئاب\"  # Replace with your text\n",
        "prediction, probability = predict_depression(new_text)\n",
        "print(f\"Prediction: {'Depressed' if prediction == 1 else 'Non-Depressed'}\")\n",
        "print(f\"Probability: {probability:.4f}\")"
      ],
      "metadata": {
        "colab": {
          "base_uri": "https://localhost:8080/",
          "height": 601
        },
        "id": "a3mT6zcclcah",
        "outputId": "24692470-210b-420b-fd36-afa7897ad273"
      },
      "execution_count": null,
      "outputs": [
        {
          "output_type": "display_data",
          "data": {
            "text/plain": [
              "<Figure size 640x480 with 2 Axes>"
            ],
            "image/png": "[encoded data removed]"
          },
          "metadata": {}
        },
        {
          "output_type": "stream",
          "name": "stderr",
          "text": [
            "WARNING:absl:You are saving your model as an HDF5 file via `model.save()` or `keras.saving.save_model(model)`. This file format is considered legacy. We recommend using instead the native Keras format, e.g. `model.save('my_model.keras')` or `keras.saving.save_model(model, 'my_model.keras')`. \n"
          ]
        },
        {
          "output_type": "stream",
          "name": "stdout",
          "text": [
            "Model and tokenizer saved successfully.\n"
          ]
        },
        {
          "output_type": "stream",
          "name": "stderr",
          "text": [
            "WARNING:absl:Compiled the loaded model, but the compiled metrics have yet to be built. `model.compile_metrics` will be empty until you train or evaluate the model.\n"
          ]
        },
        {
          "output_type": "stream",
          "name": "stdout",
          "text": [
            "\u001b[1m1/1\u001b[0m \u001b[32m━━━━━━━━━━━━━━━━━━━━\u001b[0m\u001b[37m\u001b[0m \u001b[1m1s\u001b[0m 1s/step\n",
            "Prediction: Depressed\n",
            "Probability: 0.9989\n"
          ]
        }
      ]
    },
    {
      "cell_type": "markdown",
      "source": [
        "# CNN (Convolutional Neural Network)"
      ],
      "metadata": {
        "id": "L0eYjhna2X61"
      }
    },
    {
      "cell_type": "markdown",
      "source": [
        "# Cofusion Matrix"
      ],
      "metadata": {
        "id": "71gDv3IEYlxT"
      }
    },
    {
      "cell_type": "code",
      "source": [
        "from sklearn.metrics import confusion_matrix\n",
        "import seaborn as sns\n",
        "import matplotlib.pyplot as plt\n",
        "\n",
        "cm = confusion_matrix(y_test, y_pred)\n",
        "sns.heatmap(cm, annot=True, fmt='d', cmap='Blues')\n",
        "plt.xlabel('Predicted')\n",
        "plt.ylabel('Actual')\n",
        "plt.show()"
      ],
      "metadata": {
        "colab": {
          "base_uri": "https://localhost:8080/",
          "height": 211
        },
        "id": "GL6WUZgZaxH0",
        "outputId": "3e99a038-0ea4-4998-fd91-4903bacfd438"
      },
      "execution_count": null,
      "outputs": [
        {
          "output_type": "error",
          "ename": "NameError",
          "evalue": "name 'y_test' is not defined",
          "traceback": [
            "\u001b[0;31m---------------------------------------------------------------------------\u001b[0m",
            "\u001b[0;31mNameError\u001b[0m                                 Traceback (most recent call last)",
            "\u001b[0;32m<ipython-input-1-bb68a4041f04>\u001b[0m in \u001b[0;36m<cell line: 0>\u001b[0;34m()\u001b[0m\n\u001b[1;32m      3\u001b[0m \u001b[0;32mimport\u001b[0m \u001b[0mmatplotlib\u001b[0m\u001b[0;34m.\u001b[0m\u001b[0mpyplot\u001b[0m \u001b[0;32mas\u001b[0m \u001b[0mplt\u001b[0m\u001b[0;34m\u001b[0m\u001b[0;34m\u001b[0m\u001b[0m\n\u001b[1;32m      4\u001b[0m \u001b[0;34m\u001b[0m\u001b[0m\n\u001b[0;32m----> 5\u001b[0;31m \u001b[0mcm\u001b[0m \u001b[0;34m=\u001b[0m \u001b[0mconfusion_matrix\u001b[0m\u001b[0;34m(\u001b[0m\u001b[0my_test\u001b[0m\u001b[0;34m,\u001b[0m \u001b[0my_pred\u001b[0m\u001b[0;34m)\u001b[0m\u001b[0;34m\u001b[0m\u001b[0;34m\u001b[0m\u001b[0m\n\u001b[0m\u001b[1;32m      6\u001b[0m \u001b[0msns\u001b[0m\u001b[0;34m.\u001b[0m\u001b[0mheatmap\u001b[0m\u001b[0;34m(\u001b[0m\u001b[0mcm\u001b[0m\u001b[0;34m,\u001b[0m \u001b[0mannot\u001b[0m\u001b[0;34m=\u001b[0m\u001b[0;32mTrue\u001b[0m\u001b[0;34m,\u001b[0m \u001b[0mfmt\u001b[0m\u001b[0;34m=\u001b[0m\u001b[0;34m'd'\u001b[0m\u001b[0;34m,\u001b[0m \u001b[0mcmap\u001b[0m\u001b[0;34m=\u001b[0m\u001b[0;34m'Blues'\u001b[0m\u001b[0;34m)\u001b[0m\u001b[0;34m\u001b[0m\u001b[0;34m\u001b[0m\u001b[0m\n\u001b[1;32m      7\u001b[0m \u001b[0mplt\u001b[0m\u001b[0;34m.\u001b[0m\u001b[0mxlabel\u001b[0m\u001b[0;34m(\u001b[0m\u001b[0;34m'Predicted'\u001b[0m\u001b[0;34m)\u001b[0m\u001b[0;34m\u001b[0m\u001b[0;34m\u001b[0m\u001b[0m\n",
            "\u001b[0;31mNameError\u001b[0m: name 'y_test' is not defined"
          ]
        }
      ]
    },
    {
      "cell_type": "code",
      "source": [
        "!pip install xgboost\n"
      ],
      "metadata": {
        "id": "UWpKBUTexnFW"
      },
      "execution_count": null,
      "outputs": []
    }
  ]
}