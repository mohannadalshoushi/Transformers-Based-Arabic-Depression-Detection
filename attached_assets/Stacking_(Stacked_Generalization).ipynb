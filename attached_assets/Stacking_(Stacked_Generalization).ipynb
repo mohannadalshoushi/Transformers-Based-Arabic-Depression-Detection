{
  "nbformat": 4,
  "nbformat_minor": 0,
  "metadata": {
    "colab": {
      "provenance": []
    },
    "kernelspec": {
      "name": "python3",
      "display_name": "Python 3"
    },
    "language_info": {
      "name": "python"
    }
  },
  "cells": [
    {
      "cell_type": "code",
      "source": [
        "import pandas as pd\n",
        "\n",
        "import re\n",
        "!pip install emoji\n",
        "import emoji  # Install via pip install emoji\n",
        "\n",
        "\n",
        "import nltk\n",
        "from nltk.tokenize import word_tokenize  # Add this impor\n",
        "\n",
        "nltk.download('punkt')          # General tokenizer data\n",
        "\n",
        "!pip install pyarabic\n",
        "from pyarabic.araby import tokenize  # Import Arabic tokenizer\n",
        "\n",
        "nltk.download('stopwords')\n",
        "from nltk.corpus import stopwords\n",
        "\n",
        "from nltk.stem.isri import ISRIStemmer  # Stemmer for Arabic'"
      ],
      "metadata": {
        "colab": {
          "base_uri": "https://localhost:8080/"
        },
        "collapsed": true,
        "id": "cXTsKh3CfXAv",
        "outputId": "60fa0190-64b0-4ff5-c048-e10696a6ed87"
      },
      "execution_count": 1,
      "outputs": [
        {
          "output_type": "stream",
          "name": "stdout",
          "text": [
            "Collecting emoji\n",
            "  Downloading emoji-2.14.1-py3-none-any.whl.metadata (5.7 kB)\n",
            "Downloading emoji-2.14.1-py3-none-any.whl (590 kB)\n",
            "\u001b[2K   \u001b[90m━━━━━━━━━━━━━━━━━━━━━━━━━━━━━━━━━━━━━━━━\u001b[0m \u001b[32m590.6/590.6 kB\u001b[0m \u001b[31m8.4 MB/s\u001b[0m eta \u001b[36m0:00:00\u001b[0m\n",
            "\u001b[?25hInstalling collected packages: emoji\n",
            "Successfully installed emoji-2.14.1\n"
          ]
        },
        {
          "output_type": "stream",
          "name": "stderr",
          "text": [
            "[nltk_data] Downloading package punkt to /root/nltk_data...\n",
            "[nltk_data]   Unzipping tokenizers/punkt.zip.\n"
          ]
        },
        {
          "output_type": "stream",
          "name": "stdout",
          "text": [
            "Collecting pyarabic\n",
            "  Downloading PyArabic-0.6.15-py3-none-any.whl.metadata (10 kB)\n",
            "Requirement already satisfied: six>=1.14.0 in /usr/local/lib/python3.11/dist-packages (from pyarabic) (1.17.0)\n",
            "Downloading PyArabic-0.6.15-py3-none-any.whl (126 kB)\n",
            "\u001b[?25l   \u001b[90m━━━━━━━━━━━━━━━━━━━━━━━━━━━━━━━━━━━━━━━━\u001b[0m \u001b[32m0.0/126.4 kB\u001b[0m \u001b[31m?\u001b[0m eta \u001b[36m-:--:--\u001b[0m\r\u001b[2K   \u001b[91m━━━━━━━━━━━━━━━━━━━━━━━━━━━━━━━━━━━━━━\u001b[0m\u001b[91m╸\u001b[0m\u001b[90m━\u001b[0m \u001b[32m122.9/126.4 kB\u001b[0m \u001b[31m5.3 MB/s\u001b[0m eta \u001b[36m0:00:01\u001b[0m\r\u001b[2K   \u001b[90m━━━━━━━━━━━━━━━━━━━━━━━━━━━━━━━━━━━━━━━━\u001b[0m \u001b[32m126.4/126.4 kB\u001b[0m \u001b[31m3.4 MB/s\u001b[0m eta \u001b[36m0:00:00\u001b[0m\n",
            "\u001b[?25hInstalling collected packages: pyarabic\n",
            "Successfully installed pyarabic-0.6.15\n"
          ]
        },
        {
          "output_type": "stream",
          "name": "stderr",
          "text": [
            "[nltk_data] Downloading package stopwords to /root/nltk_data...\n",
            "[nltk_data]   Unzipping corpora/stopwords.zip.\n"
          ]
        }
      ]
    },
    {
      "cell_type": "markdown",
      "source": [
        "# Data Collection step :"
      ],
      "metadata": {
        "id": "OpckGoC7QFJj"
      }
    },
    {
      "cell_type": "code",
      "execution_count": 2,
      "metadata": {
        "id": "_MTXxVfJebmk"
      },
      "outputs": [],
      "source": [
        "# Load the Excel file dataset into a dataframe\n",
        "df = pd.read_excel('combined_dataset.xlsx')"
      ]
    },
    {
      "cell_type": "code",
      "source": [
        "# Keep only the 'label' and 'text' columns from the DataFrame\n",
        "df = df[['label', 'text']]\n",
        "df"
      ],
      "metadata": {
        "colab": {
          "base_uri": "https://localhost:8080/",
          "height": 424
        },
        "id": "lVQvfJZrevRT",
        "outputId": "03be36c1-1e5b-4b16-a5ab-1680ab0a1029"
      },
      "execution_count": 3,
      "outputs": [
        {
          "output_type": "execute_result",
          "data": {
            "text/plain": [
              "       label                                               text\n",
              "0          1  والله شايفيتلك الناس كلها صاير عندها اكتئاب لا...\n",
              "1          1  اكيد اكتئاب بعد العصر ما في زيه بس ان شاء الله...\n",
              "2          1  والله ما أنا عارف هو اكتئاب ولا انطفاء ولا نضج...\n",
              "3          1                     اصبروا داخله في حاله اكتئاب 💔😭\n",
              "4          1                                     هذا اكتئاب ولا\n",
              "...      ...                                                ...\n",
              "11853      1  قلنا ان اهلي مايحبوني مو لدرجه اصحي وماحصل احد...\n",
              "11854      0                                       يوم جميل جدا\n",
              "11855      0  الهم  ابي  سندي الهم  امي  نبضي الهم  اخواني  ...\n",
              "11856      1             اكره الدوام واكره الجامعه واكره الصباح\n",
              "11857      0         ماعرف ليش لحين زعلانه الحياه مو عادله ابدا\n",
              "\n",
              "[11858 rows x 2 columns]"
            ],
            "text/html": [
              "\n",
              "  <div id=\"df-25c9b038-3541-44ae-83cd-83763c767a63\" class=\"colab-df-container\">\n",
              "    <div>\n",
              "<style scoped>\n",
              "    .dataframe tbody tr th:only-of-type {\n",
              "        vertical-align: middle;\n",
              "    }\n",
              "\n",
              "    .dataframe tbody tr th {\n",
              "        vertical-align: top;\n",
              "    }\n",
              "\n",
              "    .dataframe thead th {\n",
              "        text-align: right;\n",
              "    }\n",
              "</style>\n",
              "<table border=\"1\" class=\"dataframe\">\n",
              "  <thead>\n",
              "    <tr style=\"text-align: right;\">\n",
              "      <th></th>\n",
              "      <th>label</th>\n",
              "      <th>text</th>\n",
              "    </tr>\n",
              "  </thead>\n",
              "  <tbody>\n",
              "    <tr>\n",
              "      <th>0</th>\n",
              "      <td>1</td>\n",
              "      <td>والله شايفيتلك الناس كلها صاير عندها اكتئاب لا...</td>\n",
              "    </tr>\n",
              "    <tr>\n",
              "      <th>1</th>\n",
              "      <td>1</td>\n",
              "      <td>اكيد اكتئاب بعد العصر ما في زيه بس ان شاء الله...</td>\n",
              "    </tr>\n",
              "    <tr>\n",
              "      <th>2</th>\n",
              "      <td>1</td>\n",
              "      <td>والله ما أنا عارف هو اكتئاب ولا انطفاء ولا نضج...</td>\n",
              "    </tr>\n",
              "    <tr>\n",
              "      <th>3</th>\n",
              "      <td>1</td>\n",
              "      <td>اصبروا داخله في حاله اكتئاب 💔😭</td>\n",
              "    </tr>\n",
              "    <tr>\n",
              "      <th>4</th>\n",
              "      <td>1</td>\n",
              "      <td>هذا اكتئاب ولا</td>\n",
              "    </tr>\n",
              "    <tr>\n",
              "      <th>...</th>\n",
              "      <td>...</td>\n",
              "      <td>...</td>\n",
              "    </tr>\n",
              "    <tr>\n",
              "      <th>11853</th>\n",
              "      <td>1</td>\n",
              "      <td>قلنا ان اهلي مايحبوني مو لدرجه اصحي وماحصل احد...</td>\n",
              "    </tr>\n",
              "    <tr>\n",
              "      <th>11854</th>\n",
              "      <td>0</td>\n",
              "      <td>يوم جميل جدا</td>\n",
              "    </tr>\n",
              "    <tr>\n",
              "      <th>11855</th>\n",
              "      <td>0</td>\n",
              "      <td>الهم  ابي  سندي الهم  امي  نبضي الهم  اخواني  ...</td>\n",
              "    </tr>\n",
              "    <tr>\n",
              "      <th>11856</th>\n",
              "      <td>1</td>\n",
              "      <td>اكره الدوام واكره الجامعه واكره الصباح</td>\n",
              "    </tr>\n",
              "    <tr>\n",
              "      <th>11857</th>\n",
              "      <td>0</td>\n",
              "      <td>ماعرف ليش لحين زعلانه الحياه مو عادله ابدا</td>\n",
              "    </tr>\n",
              "  </tbody>\n",
              "</table>\n",
              "<p>11858 rows × 2 columns</p>\n",
              "</div>\n",
              "    <div class=\"colab-df-buttons\">\n",
              "\n",
              "  <div class=\"colab-df-container\">\n",
              "    <button class=\"colab-df-convert\" onclick=\"convertToInteractive('df-25c9b038-3541-44ae-83cd-83763c767a63')\"\n",
              "            title=\"Convert this dataframe to an interactive table.\"\n",
              "            style=\"display:none;\">\n",
              "\n",
              "  <svg xmlns=\"http://www.w3.org/2000/svg\" height=\"24px\" viewBox=\"0 -960 960 960\">\n",
              "    <path d=\"M120-120v-720h720v720H120Zm60-500h600v-160H180v160Zm220 220h160v-160H400v160Zm0 220h160v-160H400v160ZM180-400h160v-160H180v160Zm440 0h160v-160H620v160ZM180-180h160v-160H180v160Zm440 0h160v-160H620v160Z\"/>\n",
              "  </svg>\n",
              "    </button>\n",
              "\n",
              "  <style>\n",
              "    .colab-df-container {\n",
              "      display:flex;\n",
              "      gap: 12px;\n",
              "    }\n",
              "\n",
              "    .colab-df-convert {\n",
              "      background-color: #E8F0FE;\n",
              "      border: none;\n",
              "      border-radius: 50%;\n",
              "      cursor: pointer;\n",
              "      display: none;\n",
              "      fill: #1967D2;\n",
              "      height: 32px;\n",
              "      padding: 0 0 0 0;\n",
              "      width: 32px;\n",
              "    }\n",
              "\n",
              "    .colab-df-convert:hover {\n",
              "      background-color: #E2EBFA;\n",
              "      box-shadow: 0px 1px 2px rgba(60, 64, 67, 0.3), 0px 1px 3px 1px rgba(60, 64, 67, 0.15);\n",
              "      fill: #174EA6;\n",
              "    }\n",
              "\n",
              "    .colab-df-buttons div {\n",
              "      margin-bottom: 4px;\n",
              "    }\n",
              "\n",
              "    [theme=dark] .colab-df-convert {\n",
              "      background-color: #3B4455;\n",
              "      fill: #D2E3FC;\n",
              "    }\n",
              "\n",
              "    [theme=dark] .colab-df-convert:hover {\n",
              "      background-color: #434B5C;\n",
              "      box-shadow: 0px 1px 3px 1px rgba(0, 0, 0, 0.15);\n",
              "      filter: drop-shadow(0px 1px 2px rgba(0, 0, 0, 0.3));\n",
              "      fill: #FFFFFF;\n",
              "    }\n",
              "  </style>\n",
              "\n",
              "    <script>\n",
              "      const buttonEl =\n",
              "        document.querySelector('#df-25c9b038-3541-44ae-83cd-83763c767a63 button.colab-df-convert');\n",
              "      buttonEl.style.display =\n",
              "        google.colab.kernel.accessAllowed ? 'block' : 'none';\n",
              "\n",
              "      async function convertToInteractive(key) {\n",
              "        const element = document.querySelector('#df-25c9b038-3541-44ae-83cd-83763c767a63');\n",
              "        const dataTable =\n",
              "          await google.colab.kernel.invokeFunction('convertToInteractive',\n",
              "                                                    [key], {});\n",
              "        if (!dataTable) return;\n",
              "\n",
              "        const docLinkHtml = 'Like what you see? Visit the ' +\n",
              "          '<a target=\"_blank\" href=https://colab.research.google.com/notebooks/data_table.ipynb>data table notebook</a>'\n",
              "          + ' to learn more about interactive tables.';\n",
              "        element.innerHTML = '';\n",
              "        dataTable['output_type'] = 'display_data';\n",
              "        await google.colab.output.renderOutput(dataTable, element);\n",
              "        const docLink = document.createElement('div');\n",
              "        docLink.innerHTML = docLinkHtml;\n",
              "        element.appendChild(docLink);\n",
              "      }\n",
              "    </script>\n",
              "  </div>\n",
              "\n",
              "\n",
              "    <div id=\"df-67d531e0-90e6-42ef-9dfb-2489e261933f\">\n",
              "      <button class=\"colab-df-quickchart\" onclick=\"quickchart('df-67d531e0-90e6-42ef-9dfb-2489e261933f')\"\n",
              "                title=\"Suggest charts\"\n",
              "                style=\"display:none;\">\n",
              "\n",
              "<svg xmlns=\"http://www.w3.org/2000/svg\" height=\"24px\"viewBox=\"0 0 24 24\"\n",
              "     width=\"24px\">\n",
              "    <g>\n",
              "        <path d=\"M19 3H5c-1.1 0-2 .9-2 2v14c0 1.1.9 2 2 2h14c1.1 0 2-.9 2-2V5c0-1.1-.9-2-2-2zM9 17H7v-7h2v7zm4 0h-2V7h2v10zm4 0h-2v-4h2v4z\"/>\n",
              "    </g>\n",
              "</svg>\n",
              "      </button>\n",
              "\n",
              "<style>\n",
              "  .colab-df-quickchart {\n",
              "      --bg-color: #E8F0FE;\n",
              "      --fill-color: #1967D2;\n",
              "      --hover-bg-color: #E2EBFA;\n",
              "      --hover-fill-color: #174EA6;\n",
              "      --disabled-fill-color: #AAA;\n",
              "      --disabled-bg-color: #DDD;\n",
              "  }\n",
              "\n",
              "  [theme=dark] .colab-df-quickchart {\n",
              "      --bg-color: #3B4455;\n",
              "      --fill-color: #D2E3FC;\n",
              "      --hover-bg-color: #434B5C;\n",
              "      --hover-fill-color: #FFFFFF;\n",
              "      --disabled-bg-color: #3B4455;\n",
              "      --disabled-fill-color: #666;\n",
              "  }\n",
              "\n",
              "  .colab-df-quickchart {\n",
              "    background-color: var(--bg-color);\n",
              "    border: none;\n",
              "    border-radius: 50%;\n",
              "    cursor: pointer;\n",
              "    display: none;\n",
              "    fill: var(--fill-color);\n",
              "    height: 32px;\n",
              "    padding: 0;\n",
              "    width: 32px;\n",
              "  }\n",
              "\n",
              "  .colab-df-quickchart:hover {\n",
              "    background-color: var(--hover-bg-color);\n",
              "    box-shadow: 0 1px 2px rgba(60, 64, 67, 0.3), 0 1px 3px 1px rgba(60, 64, 67, 0.15);\n",
              "    fill: var(--button-hover-fill-color);\n",
              "  }\n",
              "\n",
              "  .colab-df-quickchart-complete:disabled,\n",
              "  .colab-df-quickchart-complete:disabled:hover {\n",
              "    background-color: var(--disabled-bg-color);\n",
              "    fill: var(--disabled-fill-color);\n",
              "    box-shadow: none;\n",
              "  }\n",
              "\n",
              "  .colab-df-spinner {\n",
              "    border: 2px solid var(--fill-color);\n",
              "    border-color: transparent;\n",
              "    border-bottom-color: var(--fill-color);\n",
              "    animation:\n",
              "      spin 1s steps(1) infinite;\n",
              "  }\n",
              "\n",
              "  @keyframes spin {\n",
              "    0% {\n",
              "      border-color: transparent;\n",
              "      border-bottom-color: var(--fill-color);\n",
              "      border-left-color: var(--fill-color);\n",
              "    }\n",
              "    20% {\n",
              "      border-color: transparent;\n",
              "      border-left-color: var(--fill-color);\n",
              "      border-top-color: var(--fill-color);\n",
              "    }\n",
              "    30% {\n",
              "      border-color: transparent;\n",
              "      border-left-color: var(--fill-color);\n",
              "      border-top-color: var(--fill-color);\n",
              "      border-right-color: var(--fill-color);\n",
              "    }\n",
              "    40% {\n",
              "      border-color: transparent;\n",
              "      border-right-color: var(--fill-color);\n",
              "      border-top-color: var(--fill-color);\n",
              "    }\n",
              "    60% {\n",
              "      border-color: transparent;\n",
              "      border-right-color: var(--fill-color);\n",
              "    }\n",
              "    80% {\n",
              "      border-color: transparent;\n",
              "      border-right-color: var(--fill-color);\n",
              "      border-bottom-color: var(--fill-color);\n",
              "    }\n",
              "    90% {\n",
              "      border-color: transparent;\n",
              "      border-bottom-color: var(--fill-color);\n",
              "    }\n",
              "  }\n",
              "</style>\n",
              "\n",
              "      <script>\n",
              "        async function quickchart(key) {\n",
              "          const quickchartButtonEl =\n",
              "            document.querySelector('#' + key + ' button');\n",
              "          quickchartButtonEl.disabled = true;  // To prevent multiple clicks.\n",
              "          quickchartButtonEl.classList.add('colab-df-spinner');\n",
              "          try {\n",
              "            const charts = await google.colab.kernel.invokeFunction(\n",
              "                'suggestCharts', [key], {});\n",
              "          } catch (error) {\n",
              "            console.error('Error during call to suggestCharts:', error);\n",
              "          }\n",
              "          quickchartButtonEl.classList.remove('colab-df-spinner');\n",
              "          quickchartButtonEl.classList.add('colab-df-quickchart-complete');\n",
              "        }\n",
              "        (() => {\n",
              "          let quickchartButtonEl =\n",
              "            document.querySelector('#df-67d531e0-90e6-42ef-9dfb-2489e261933f button');\n",
              "          quickchartButtonEl.style.display =\n",
              "            google.colab.kernel.accessAllowed ? 'block' : 'none';\n",
              "        })();\n",
              "      </script>\n",
              "    </div>\n",
              "\n",
              "  <div id=\"id_502f1116-b50a-4c33-90eb-e5c87313c6c8\">\n",
              "    <style>\n",
              "      .colab-df-generate {\n",
              "        background-color: #E8F0FE;\n",
              "        border: none;\n",
              "        border-radius: 50%;\n",
              "        cursor: pointer;\n",
              "        display: none;\n",
              "        fill: #1967D2;\n",
              "        height: 32px;\n",
              "        padding: 0 0 0 0;\n",
              "        width: 32px;\n",
              "      }\n",
              "\n",
              "      .colab-df-generate:hover {\n",
              "        background-color: #E2EBFA;\n",
              "        box-shadow: 0px 1px 2px rgba(60, 64, 67, 0.3), 0px 1px 3px 1px rgba(60, 64, 67, 0.15);\n",
              "        fill: #174EA6;\n",
              "      }\n",
              "\n",
              "      [theme=dark] .colab-df-generate {\n",
              "        background-color: #3B4455;\n",
              "        fill: #D2E3FC;\n",
              "      }\n",
              "\n",
              "      [theme=dark] .colab-df-generate:hover {\n",
              "        background-color: #434B5C;\n",
              "        box-shadow: 0px 1px 3px 1px rgba(0, 0, 0, 0.15);\n",
              "        filter: drop-shadow(0px 1px 2px rgba(0, 0, 0, 0.3));\n",
              "        fill: #FFFFFF;\n",
              "      }\n",
              "    </style>\n",
              "    <button class=\"colab-df-generate\" onclick=\"generateWithVariable('df')\"\n",
              "            title=\"Generate code using this dataframe.\"\n",
              "            style=\"display:none;\">\n",
              "\n",
              "  <svg xmlns=\"http://www.w3.org/2000/svg\" height=\"24px\"viewBox=\"0 0 24 24\"\n",
              "       width=\"24px\">\n",
              "    <path d=\"M7,19H8.4L18.45,9,17,7.55,7,17.6ZM5,21V16.75L18.45,3.32a2,2,0,0,1,2.83,0l1.4,1.43a1.91,1.91,0,0,1,.58,1.4,1.91,1.91,0,0,1-.58,1.4L9.25,21ZM18.45,9,17,7.55Zm-12,3A5.31,5.31,0,0,0,4.9,8.1,5.31,5.31,0,0,0,1,6.5,5.31,5.31,0,0,0,4.9,4.9,5.31,5.31,0,0,0,6.5,1,5.31,5.31,0,0,0,8.1,4.9,5.31,5.31,0,0,0,12,6.5,5.46,5.46,0,0,0,6.5,12Z\"/>\n",
              "  </svg>\n",
              "    </button>\n",
              "    <script>\n",
              "      (() => {\n",
              "      const buttonEl =\n",
              "        document.querySelector('#id_502f1116-b50a-4c33-90eb-e5c87313c6c8 button.colab-df-generate');\n",
              "      buttonEl.style.display =\n",
              "        google.colab.kernel.accessAllowed ? 'block' : 'none';\n",
              "\n",
              "      buttonEl.onclick = () => {\n",
              "        google.colab.notebook.generateWithVariable('df');\n",
              "      }\n",
              "      })();\n",
              "    </script>\n",
              "  </div>\n",
              "\n",
              "    </div>\n",
              "  </div>\n"
            ],
            "application/vnd.google.colaboratory.intrinsic+json": {
              "type": "dataframe",
              "variable_name": "df",
              "summary": "{\n  \"name\": \"df\",\n  \"rows\": 11858,\n  \"fields\": [\n    {\n      \"column\": \"label\",\n      \"properties\": {\n        \"dtype\": \"number\",\n        \"std\": 0,\n        \"min\": 0,\n        \"max\": 1,\n        \"num_unique_values\": 2,\n        \"samples\": [\n          0,\n          1\n        ],\n        \"semantic_type\": \"\",\n        \"description\": \"\"\n      }\n    },\n    {\n      \"column\": \"text\",\n      \"properties\": {\n        \"dtype\": \"string\",\n        \"num_unique_values\": 11841,\n        \"samples\": [\n          \"\\u0627\\u0644\\u0644\\u0647\\u0645 \\u0627\\u062c\\u0639\\u0644 \\u0627\\u0644\\u0635\\u062d\\u0629 \\u062e\\u064a\\u0631 \\u0635\\u0627\\u062d\\u0628 \\u0644\\u0623\\u062c\\u0633\\u0627\\u062f\\u0646\\u0627 \\u0648\\u0627\\u0644\\u0633\\u0639\\u0627\\u062f\\u0629 \\u062e\\u064a\\u0631 \\u0631\\u0641\\u064a\\u0642 \\u0644\\u0642\\u0644\\u0648\\u0628\\u0646\\u0627 \\u0648 \\u0627\\u0644\\u0641\\u0631\\u062d\\u0629 \\u062e\\u064a\\u0631 \\u0646\\u0648\\u0631 \\u0644\\u0639\\u064a\\u0648\\u0646\\u0646\\u0627  \\u0648\\u0627\\u0644\\u062a\\u0648\\u0641\\u064a\\u0642 \\u0627\\u0644\\u062f\\u0627\\u0626\\u0645 \\u0641\\u064a \\u062f\\u0631\\u0648\\u0628\\u0646\\u0627  \\u0625\\u0646\\u0643 \\u0639\\u0644\\u0649 \\u0643\\u0644 \\u0634\\u064a \\u0642\\u062f\\u064a\\u0631 \\u2665\\ufe0f\",\n          \"\\u0628\\u0648\\u0633\\u062a \\u0644\\u0648\\u0627\\u0644\\u062f \\u0648\\u0627\\u062d\\u062f\\u0647 \\u0632\\u0645\\u064a\\u0644\\u062a\\u0646\\u0627 _x000D_\\n\\u062d\\u062a\\u064a \\u0627\\u0644\\u0627\\u0647\\u0627\\u0644\\u064a \\u062c\\u0627\\u0644\\u0647\\u0645 \\u0627\\u0643\\u062a\\u0626\\u0627\\u0628 _x000D_\\n\\u0644\\u0647 \\u0627\\u0644\\u0623\\u0645\\u0631 \\u0645\\u0646 \\u0642\"\n        ],\n        \"semantic_type\": \"\",\n        \"description\": \"\"\n      }\n    }\n  ]\n}"
            }
          },
          "metadata": {},
          "execution_count": 3
        }
      ]
    },
    {
      "cell_type": "code",
      "source": [
        "# Remove rows with empty values\n",
        "df.dropna(inplace=True)\n",
        "# Remove duplicate rows\n",
        "df = df.drop_duplicates()"
      ],
      "metadata": {
        "id": "rBNdrdEPfLbI"
      },
      "execution_count": 4,
      "outputs": []
    },
    {
      "cell_type": "code",
      "source": [
        "# Check if the dataset is balanced by showing class distribution percentages\n",
        "print(\"Class Distribution:\\n\", df['label'].value_counts(normalize=True))"
      ],
      "metadata": {
        "colab": {
          "base_uri": "https://localhost:8080/"
        },
        "id": "lP7zQHVBRr6q",
        "outputId": "d2577283-2a1e-4c8c-dbeb-3582c1a1bd6e"
      },
      "execution_count": 5,
      "outputs": [
        {
          "output_type": "stream",
          "name": "stdout",
          "text": [
            "Class Distribution:\n",
            " label\n",
            "1    0.500211\n",
            "0    0.499789\n",
            "Name: proportion, dtype: float64\n"
          ]
        }
      ]
    },
    {
      "cell_type": "code",
      "source": [
        "# Get information about the dataset\n",
        "print(df.info())"
      ],
      "metadata": {
        "colab": {
          "base_uri": "https://localhost:8080/"
        },
        "id": "YqDSFZefevJe",
        "outputId": "cfb88024-81b8-467b-82ee-ee0e875a9983"
      },
      "execution_count": 6,
      "outputs": [
        {
          "output_type": "stream",
          "name": "stdout",
          "text": [
            "<class 'pandas.core.frame.DataFrame'>\n",
            "Index: 11843 entries, 0 to 11857\n",
            "Data columns (total 2 columns):\n",
            " #   Column  Non-Null Count  Dtype \n",
            "---  ------  --------------  ----- \n",
            " 0   label   11843 non-null  int64 \n",
            " 1   text    11843 non-null  object\n",
            "dtypes: int64(1), object(1)\n",
            "memory usage: 277.6+ KB\n",
            "None\n"
          ]
        }
      ]
    },
    {
      "cell_type": "markdown",
      "source": [
        "# Data Preprocessing :"
      ],
      "metadata": {
        "id": "8isOtbYxQpTv"
      }
    },
    {
      "cell_type": "code",
      "source": [
        "\n",
        "# Get NLTK Arabic stopwords and normalize them\n",
        "\n",
        "\"\"\"\n",
        "#Stopwords Removal Problem\n",
        "#My text was normalized, but NLTK stopwords were not. So,\n",
        "#they didn’t match, and stopwords weren’t removed. I fixed it by normalizing the\n",
        "#stopwords too and saving them in a set called normalized_stopwords.\"\"\"\n",
        "\n",
        "\n",
        "\n",
        "arabic_stopwords = set(stopwords.words('arabic'))\n",
        "\n",
        "normalized_stopwords = set()\n",
        "\n",
        "for word in arabic_stopwords:\n",
        "    # Apply the same normalization as your text\n",
        "    word = re.sub(\"[إأآا]\", \"ا\", word)  # Normalize Alef\n",
        "    word = re.sub(\"ى\", \"ي\", word)       # Normalize Ya\n",
        "    word = re.sub(\"[ؤئ]\", \"ء\", word)    # Normalize Hamza\n",
        "    normalized_stopwords.add(word)\n",
        "\n",
        "\n",
        "\n",
        "def data_cleaner(text):\n",
        "\n",
        "    # Step 1: Remove URLs, hashtags, mentions\n",
        "    text = re.sub(r'http\\S+', '', text)        # Remove URLs\n",
        "    text = re.sub(r'[@#]\\w+', '', text)        # Remove mentions (@) and hashtags (#)\n",
        "\n",
        "    # Step 2: Normalize Arabic text (remove diacritics)\n",
        "    text = re.sub(r'[\\u0617-\\u061A\\u064B-\\u0652]', '', text)  # Remove Arabic diacritics\n",
        "\n",
        "    # Step 3: Normalize Hamza and Alef variations\n",
        "    text = re.sub(\"[إأآا]\", \"ا\", text)         # Normalize Alef variations\n",
        "    text = re.sub(\"ى\", \"ي\", text)              # Normalize Ya\n",
        "    text = re.sub(\"ؤ\", \"ء\", text)              # Normalize Hamza\n",
        "    text = re.sub(\"ئ\", \"ء\", text)              # Normalize Hamza\n",
        "\n",
        "    # Step 4: Remove emojis (using emoji library + regex)\n",
        "    text = emoji.replace_emoji(text, replace='')  # Remove emojis using the emoji library\n",
        "\n",
        "    # Step 5: Remove punctuation and special characters\n",
        "    arabic_punct = r'[،؛؟.!\\\"\\'\\(\\)\\[\\]\\{\\}:;,\\.\\?]'  # Define Arabic punctuation\n",
        "    text = re.sub(arabic_punct, ' ', text)     # Replace with space\n",
        "\n",
        "    # Step 6: Remove numbers\n",
        "    text = re.sub(r'\\d+', '', text)            # Remove digits\n",
        "\n",
        "    # Step 7: Remove English letters (A-Za-z)\n",
        "    text = re.sub(r'[A-Za-z]', '', text)       # Remove English characters\n",
        "\n",
        "    # Step 8: Remove extra whitespaces\n",
        "    text = re.sub(r'\\s+', ' ', text).strip()   # Collapse multiple spaces\n",
        "\n",
        "    # Step 9: Tokenize the cleaned text\n",
        "    tokens = tokenize(text)  # Arabic-specific tokenization\n",
        "\n",
        "    # Debugging: Print tokens to verify\n",
        "    #print(f\"Original: {text}\")\n",
        "    #print(f\"Tokens: {tokens}\")\n",
        "\n",
        "    # Step 10: Remove stopwrods\n",
        "    tokens = [word for word in tokens if word not in normalized_stopwords]\n",
        "\n",
        "    #Step 11: Stem tokens\n",
        "\n",
        "    # Initialize stemmer\n",
        "    stemmer = ISRIStemmer()\n",
        "    tokens = [stemmer.stem(word) for word in tokens]\n",
        "\n",
        "    # Step 12: Remove any remaining garbage characters\n",
        "    tokens = [word for word in tokens if re.match(r'^[\\u0620-\\u064A]+$', word)]\n",
        "\n",
        "    # Join tokens and return the cleaned text\n",
        "    cleaned_text = \" \".join(tokens)\n",
        "\n",
        "    return cleaned_text"
      ],
      "metadata": {
        "id": "kXt35HKvgFmQ"
      },
      "execution_count": 7,
      "outputs": []
    },
    {
      "cell_type": "code",
      "source": [
        "# Apply data_cleaner function on the dataset text\n",
        "df['text'] = df['text'].apply(lambda x: data_cleaner(x))\n",
        "print(df.head())"
      ],
      "metadata": {
        "colab": {
          "base_uri": "https://localhost:8080/"
        },
        "id": "aOCX0TwGl7kJ",
        "outputId": "3e36dd14-976c-402b-9890-d6b064519077"
      },
      "execution_count": 8,
      "outputs": [
        {
          "output_type": "stream",
          "name": "stdout",
          "text": [
            "   label                                               text\n",
            "0      1   ولل شايفيتلك ناس كله صير عند كءب لزم فكو حظر بكف\n",
            "1      1  اكد كءب عصر زيه شاء الل عيد دا اشف عمل تطع خير...\n",
            "2      1                        ولل عرف كءب طفء نضج وحد وحد\n",
            "3      1                                    صبر دخل حله كءب\n",
            "4      1                                                كءب\n"
          ]
        },
        {
          "output_type": "stream",
          "name": "stderr",
          "text": [
            "<ipython-input-8-d53f6699c614>:2: SettingWithCopyWarning: \n",
            "A value is trying to be set on a copy of a slice from a DataFrame.\n",
            "Try using .loc[row_indexer,col_indexer] = value instead\n",
            "\n",
            "See the caveats in the documentation: https://pandas.pydata.org/pandas-docs/stable/user_guide/indexing.html#returning-a-view-versus-a-copy\n",
            "  df['text'] = df['text'].apply(lambda x: data_cleaner(x))\n"
          ]
        }
      ]
    },
    {
      "cell_type": "code",
      "source": [
        "print(df.info())  # Get information about the dataset"
      ],
      "metadata": {
        "colab": {
          "base_uri": "https://localhost:8080/"
        },
        "id": "ibouj-DXWgf5",
        "outputId": "3f6da240-6717-483f-de77-4bb78d5011f9"
      },
      "execution_count": 9,
      "outputs": [
        {
          "output_type": "stream",
          "name": "stdout",
          "text": [
            "<class 'pandas.core.frame.DataFrame'>\n",
            "Index: 11843 entries, 0 to 11857\n",
            "Data columns (total 2 columns):\n",
            " #   Column  Non-Null Count  Dtype \n",
            "---  ------  --------------  ----- \n",
            " 0   label   11843 non-null  int64 \n",
            " 1   text    11843 non-null  object\n",
            "dtypes: int64(1), object(1)\n",
            "memory usage: 277.6+ KB\n",
            "None\n"
          ]
        }
      ]
    },
    {
      "cell_type": "code",
      "source": [
        "df = df[df['text'].str.strip().astype(bool)]  # Remove empty texts"
      ],
      "metadata": {
        "id": "VgcirHW4WemL"
      },
      "execution_count": 10,
      "outputs": []
    },
    {
      "cell_type": "code",
      "source": [
        "print(df.info())  # Get information about the dataset"
      ],
      "metadata": {
        "colab": {
          "base_uri": "https://localhost:8080/"
        },
        "id": "lfdmJ_AVXCQ8",
        "outputId": "493ef163-6bfd-49ec-fdba-097354dd5ea9"
      },
      "execution_count": 11,
      "outputs": [
        {
          "output_type": "stream",
          "name": "stdout",
          "text": [
            "<class 'pandas.core.frame.DataFrame'>\n",
            "Index: 11838 entries, 0 to 11857\n",
            "Data columns (total 2 columns):\n",
            " #   Column  Non-Null Count  Dtype \n",
            "---  ------  --------------  ----- \n",
            " 0   label   11838 non-null  int64 \n",
            " 1   text    11838 non-null  object\n",
            "dtypes: int64(1), object(1)\n",
            "memory usage: 277.5+ KB\n",
            "None\n"
          ]
        }
      ]
    },
    {
      "cell_type": "markdown",
      "source": [
        "# Feature Extraction & Feature Selection"
      ],
      "metadata": {
        "id": "jzaRlIWVQ6uH"
      }
    },
    {
      "cell_type": "code",
      "source": [
        "# Vectorivation\n",
        "\n",
        "from sklearn.feature_extraction.text import TfidfVectorizer\n",
        "# Initialize the TF-IDF vectorizer with custom settings\n",
        "\n",
        "#Feature Selection:\n",
        "\n",
        "tfidf = TfidfVectorizer(\n",
        "    #max_features=5000,\n",
        "    #ngram_range=(1, 2),\n",
        "    # convert the normalized_stopwrods set to a list to make it work correctly with vectorization step\n",
        "    #stop_words= list(normalized_stopwords),\n",
        "    max_features=10000,        # Use the top 10,000 most important words\n",
        "    ngram_range=(1, 3),        # Include unigrams, bigrams, and trigrams\n",
        "    min_df=3,                  # Ignore words that appear in fewer than 3 documents\n",
        "    max_df=0.9                 # Ignore words that appear in more than 90% of the documents\n",
        "\n",
        ")\n",
        "\n",
        "#Feature Extraction:\n",
        "\n",
        "# Apply the vectorizer to the 'text' column to convert it into numeric features\n",
        "X = tfidf.fit_transform(df['text'])\n",
        "# Set the target labels (depressed = 1, non-depressed = 0)\n",
        "y = df['label']"
      ],
      "metadata": {
        "id": "9YvOyy94nqFB"
      },
      "execution_count": 12,
      "outputs": []
    },
    {
      "cell_type": "code",
      "source": [
        "print(tfidf.get_feature_names_out()[:20])  # peek at vocabulary\n"
      ],
      "metadata": {
        "colab": {
          "base_uri": "https://localhost:8080/"
        },
        "id": "UMWULTM3GZUF",
        "outputId": "df4a60ec-b08c-4088-874c-494d13a5b2bf"
      },
      "execution_count": 13,
      "outputs": [
        {
          "output_type": "stream",
          "name": "stdout",
          "text": [
            "['ءثر' 'ءجر' 'ءخر' 'ءذي' 'ءسف' 'ءشر' 'ءقت' 'ءكد' 'ءلم' 'ءلم تنم'\n",
            " 'ءلم تنم ليل' 'ءلم جمل' 'ءلم جمل ذكر' 'ءمر' 'ءمن' 'ءمن افق' 'ءمن افق غيب'\n",
            " 'اءم' 'ااه' 'ابا']\n"
          ]
        }
      ]
    },
    {
      "cell_type": "markdown",
      "source": [
        "# Feature Classification"
      ],
      "metadata": {
        "id": "sRQMwYmZRtfe"
      }
    },
    {
      "cell_type": "code",
      "source": [
        " # Split into training (80%) and testing (20%)\n",
        "\n",
        "from sklearn.model_selection import train_test_split\n",
        "X_train, X_test, y_train, y_test = train_test_split(\n",
        "    X,  # TF-IDF vectors (features)\n",
        "    y,  # Labels (0 = non-depressed, 1 = depressed)\n",
        "    test_size=0.2,  # 20% for testing\n",
        "    random_state=42,  # ensures the split is the same every time (for reproducibility)\n",
        "    stratify=y # Ensures balanced class distribution in both sets\n",
        ")\n",
        "\n",
        "print(f\"Training samples: {X_train.shape[0]}\")\n",
        "print(f\"Testing samples: {X_test.shape[0]}\")\n",
        "\n",
        "\n",
        "\n"
      ],
      "metadata": {
        "colab": {
          "base_uri": "https://localhost:8080/"
        },
        "id": "7lWIADAvp5Gd",
        "outputId": "20d6a011-f83a-40fc-dbb1-a60feef6eacd"
      },
      "execution_count": 14,
      "outputs": [
        {
          "output_type": "stream",
          "name": "stdout",
          "text": [
            "Training samples: 9470\n",
            "Testing samples: 2368\n"
          ]
        }
      ]
    },
    {
      "cell_type": "markdown",
      "source": [
        "# Stacking (Stacked Generalization)"
      ],
      "metadata": {
        "id": "VJoKwYi4o-wm"
      }
    },
    {
      "cell_type": "code",
      "source": [
        "from sklearn.ensemble import StackingClassifier\n",
        "from sklearn.linear_model import LogisticRegression\n",
        "from sklearn.naive_bayes import MultinomialNB\n",
        "from sklearn.svm import SVC\n",
        "from sklearn.metrics import classification_report\n",
        "\n",
        "\n",
        "base_models = [\n",
        "    ('svm', SVC(kernel='linear', probability=True)),\n",
        "    ('nb', MultinomialNB())\n",
        "]\n",
        "\n",
        "stack_model = StackingClassifier(estimators=base_models, final_estimator=LogisticRegression())\n",
        "stack_model.fit(X_train, y_train)\n",
        "y_pred = stack_model.predict(X_test)\n",
        "print(classification_report(y_test, y_pred))\n"
      ],
      "metadata": {
        "colab": {
          "base_uri": "https://localhost:8080/"
        },
        "id": "4o2t5_dbo_h7",
        "outputId": "ddd6a040-862d-4d68-c8c9-5804e798f8df"
      },
      "execution_count": 16,
      "outputs": [
        {
          "output_type": "stream",
          "name": "stdout",
          "text": [
            "              precision    recall  f1-score   support\n",
            "\n",
            "           0       0.94      0.95      0.94      1183\n",
            "           1       0.95      0.94      0.94      1185\n",
            "\n",
            "    accuracy                           0.94      2368\n",
            "   macro avg       0.94      0.94      0.94      2368\n",
            "weighted avg       0.94      0.94      0.94      2368\n",
            "\n"
          ]
        }
      ]
    },
    {
      "cell_type": "markdown",
      "source": [
        "# Cofusion Matrix"
      ],
      "metadata": {
        "id": "71gDv3IEYlxT"
      }
    },
    {
      "cell_type": "code",
      "source": [
        "from sklearn.metrics import confusion_matrix\n",
        "import seaborn as sns\n",
        "import matplotlib.pyplot as plt\n",
        "\n",
        "cm = confusion_matrix(y_test, y_pred)\n",
        "sns.heatmap(cm, annot=True, fmt='d', cmap='Blues')\n",
        "plt.xlabel('Predicted')\n",
        "plt.ylabel('Actual')\n",
        "plt.show()"
      ],
      "metadata": {
        "colab": {
          "base_uri": "https://localhost:8080/",
          "height": 449
        },
        "id": "GL6WUZgZaxH0",
        "outputId": "845f8de0-043c-4bde-85aa-b24fc1a19f58"
      },
      "execution_count": 17,
      "outputs": [
        {
          "output_type": "display_data",
          "data": {
            "text/plain": [
              "<Figure size 640x480 with 2 Axes>"
            ],
            "image/png": "[encoded data removed]"
          },
          "metadata": {}
        }
      ]
    },
    {
      "cell_type": "code",
      "source": [
        "# ================================\n",
        "# Save Stacking Model and TF-IDF\n",
        "# ================================\n",
        "\n",
        "import joblib\n",
        "\n",
        "# Save the trained stacking model\n",
        "joblib.dump(stack_model, 'stacking_model.pkl')\n",
        "\n",
        "# Save the fitted TF-IDF vectorizer\n",
        "joblib.dump(tfidf, 'tfidf_vectorizer.pkl')\n",
        "\n",
        "print(\"✅ Model and vectorizer saved successfully!\")\n"
      ],
      "metadata": {
        "colab": {
          "base_uri": "https://localhost:8080/"
        },
        "id": "maKXKju2bval",
        "outputId": "0913cd19-68c8-4941-a577-569d41282dbe"
      },
      "execution_count": 18,
      "outputs": [
        {
          "output_type": "stream",
          "name": "stdout",
          "text": [
            "✅ Model and vectorizer saved successfully!\n"
          ]
        }
      ]
    }
  ]
}